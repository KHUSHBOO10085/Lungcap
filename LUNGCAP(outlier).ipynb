{
 "cells": [
  {
   "cell_type": "code",
   "execution_count": 1,
   "id": "a3424f95",
   "metadata": {},
   "outputs": [],
   "source": [
    "#Outlier-an outlier is a single data point that goes far outside the average value of a data.\n",
    "#an outlier is a single data point that deviates significantly from the rest of the data.\n",
    "#An outlier is a value in the data set that is extremely distinct from most of the other values.\n",
    "#For Example-[21,22,24,26,25,28,45]\n",
    "#outlier=45\n",
    "#The presence of outlier in a dataset is generally considered a problem in our analysis and modeling.\n",
    "#Generally,we consider an outlier detection process when the data is there with continuous values i,e.in columns which is in numeric value.\n",
    "#there are two ways to remove the outliers:-\n",
    "#1.drop\n",
    "#2.imputation\n",
    "#two ways of impute\n",
    "#1.sd-standard deviation 2.IQR-interquartile range\n",
    "#SD applied on GD-gaussian distribution \n",
    "#IQR is for Skewed\n",
    "#mean is more sensitive to the existence of outliers than the median.\n",
    "#Due to outlier, mean is getting heavily affected so thats why we have to use median in cleaning process."
   ]
  },
  {
   "cell_type": "code",
   "execution_count": 2,
   "id": "58697af9",
   "metadata": {},
   "outputs": [],
   "source": [
    "# We can check outlier using boxplot and viscorplot.\n",
    "# boxplot is for numeric data , for categorical gives abnormal boxplot.\n",
    "#droping outlier not peferable.because for drop outlier we have to drop whole row which is loss of data\n"
   ]
  },
  {
   "cell_type": "code",
   "execution_count": 3,
   "id": "eaedb43e",
   "metadata": {},
   "outputs": [],
   "source": [
    "#1.detect \n",
    "#2. remove\n",
    "#3. impute-SD,IQR"
   ]
  },
  {
   "cell_type": "code",
   "execution_count": 4,
   "id": "8b93d4a7",
   "metadata": {},
   "outputs": [],
   "source": [
    "#-+1SD=68%\n",
    "#-+2SD=90%\n",
    "#-+3SD=99%\n",
    "# 2.5 = 95,\n"
   ]
  },
  {
   "cell_type": "code",
   "execution_count": 5,
   "id": "9088ad48",
   "metadata": {},
   "outputs": [],
   "source": [
    "import pandas as pd"
   ]
  },
  {
   "cell_type": "code",
   "execution_count": 6,
   "id": "49b504a4",
   "metadata": {},
   "outputs": [
    {
     "data": {
      "text/html": [
       "<div>\n",
       "<style scoped>\n",
       "    .dataframe tbody tr th:only-of-type {\n",
       "        vertical-align: middle;\n",
       "    }\n",
       "\n",
       "    .dataframe tbody tr th {\n",
       "        vertical-align: top;\n",
       "    }\n",
       "\n",
       "    .dataframe thead th {\n",
       "        text-align: right;\n",
       "    }\n",
       "</style>\n",
       "<table border=\"1\" class=\"dataframe\">\n",
       "  <thead>\n",
       "    <tr style=\"text-align: right;\">\n",
       "      <th></th>\n",
       "      <th>LungCap(cc)</th>\n",
       "      <th>Age( years)</th>\n",
       "      <th>Height(inches)</th>\n",
       "      <th>Smoke</th>\n",
       "      <th>Gender</th>\n",
       "      <th>Caesarean</th>\n",
       "    </tr>\n",
       "  </thead>\n",
       "  <tbody>\n",
       "    <tr>\n",
       "      <th>0</th>\n",
       "      <td>6.475</td>\n",
       "      <td>6</td>\n",
       "      <td>62.1</td>\n",
       "      <td>no</td>\n",
       "      <td>male</td>\n",
       "      <td>no</td>\n",
       "    </tr>\n",
       "    <tr>\n",
       "      <th>1</th>\n",
       "      <td>10.125</td>\n",
       "      <td>18</td>\n",
       "      <td>74.7</td>\n",
       "      <td>yes</td>\n",
       "      <td>female</td>\n",
       "      <td>no</td>\n",
       "    </tr>\n",
       "    <tr>\n",
       "      <th>2</th>\n",
       "      <td>9.550</td>\n",
       "      <td>16</td>\n",
       "      <td>69.7</td>\n",
       "      <td>no</td>\n",
       "      <td>female</td>\n",
       "      <td>yes</td>\n",
       "    </tr>\n",
       "    <tr>\n",
       "      <th>3</th>\n",
       "      <td>11.125</td>\n",
       "      <td>14</td>\n",
       "      <td>71.0</td>\n",
       "      <td>no</td>\n",
       "      <td>male</td>\n",
       "      <td>no</td>\n",
       "    </tr>\n",
       "    <tr>\n",
       "      <th>4</th>\n",
       "      <td>4.800</td>\n",
       "      <td>5</td>\n",
       "      <td>56.9</td>\n",
       "      <td>no</td>\n",
       "      <td>male</td>\n",
       "      <td>no</td>\n",
       "    </tr>\n",
       "    <tr>\n",
       "      <th>...</th>\n",
       "      <td>...</td>\n",
       "      <td>...</td>\n",
       "      <td>...</td>\n",
       "      <td>...</td>\n",
       "      <td>...</td>\n",
       "      <td>...</td>\n",
       "    </tr>\n",
       "    <tr>\n",
       "      <th>720</th>\n",
       "      <td>5.725</td>\n",
       "      <td>9</td>\n",
       "      <td>56.0</td>\n",
       "      <td>no</td>\n",
       "      <td>female</td>\n",
       "      <td>no</td>\n",
       "    </tr>\n",
       "    <tr>\n",
       "      <th>721</th>\n",
       "      <td>9.050</td>\n",
       "      <td>18</td>\n",
       "      <td>72.0</td>\n",
       "      <td>yes</td>\n",
       "      <td>male</td>\n",
       "      <td>yes</td>\n",
       "    </tr>\n",
       "    <tr>\n",
       "      <th>722</th>\n",
       "      <td>3.850</td>\n",
       "      <td>11</td>\n",
       "      <td>60.5</td>\n",
       "      <td>yes</td>\n",
       "      <td>female</td>\n",
       "      <td>no</td>\n",
       "    </tr>\n",
       "    <tr>\n",
       "      <th>723</th>\n",
       "      <td>9.825</td>\n",
       "      <td>15</td>\n",
       "      <td>64.9</td>\n",
       "      <td>no</td>\n",
       "      <td>female</td>\n",
       "      <td>no</td>\n",
       "    </tr>\n",
       "    <tr>\n",
       "      <th>724</th>\n",
       "      <td>7.100</td>\n",
       "      <td>10</td>\n",
       "      <td>67.7</td>\n",
       "      <td>no</td>\n",
       "      <td>male</td>\n",
       "      <td>no</td>\n",
       "    </tr>\n",
       "  </tbody>\n",
       "</table>\n",
       "<p>725 rows × 6 columns</p>\n",
       "</div>"
      ],
      "text/plain": [
       "     LungCap(cc)  Age( years)  Height(inches) Smoke  Gender Caesarean\n",
       "0          6.475            6            62.1    no    male        no\n",
       "1         10.125           18            74.7   yes  female        no\n",
       "2          9.550           16            69.7    no  female       yes\n",
       "3         11.125           14            71.0    no    male        no\n",
       "4          4.800            5            56.9    no    male        no\n",
       "..           ...          ...             ...   ...     ...       ...\n",
       "720        5.725            9            56.0    no  female        no\n",
       "721        9.050           18            72.0   yes    male       yes\n",
       "722        3.850           11            60.5   yes  female        no\n",
       "723        9.825           15            64.9    no  female        no\n",
       "724        7.100           10            67.7    no    male        no\n",
       "\n",
       "[725 rows x 6 columns]"
      ]
     },
     "execution_count": 6,
     "metadata": {},
     "output_type": "execute_result"
    }
   ],
   "source": [
    "data_lung=pd.read_excel(r\"C:\\Users\\khush\\Downloads\\LungCap.xls\")\n",
    "data_lung"
   ]
  },
  {
   "cell_type": "code",
   "execution_count": 7,
   "id": "7d802004",
   "metadata": {},
   "outputs": [
    {
     "data": {
      "text/plain": [
       "LungCap(cc)       float64\n",
       "Age( years)         int64\n",
       "Height(inches)    float64\n",
       "Smoke              object\n",
       "Gender             object\n",
       "Caesarean          object\n",
       "dtype: object"
      ]
     },
     "execution_count": 7,
     "metadata": {},
     "output_type": "execute_result"
    }
   ],
   "source": [
    "data_lung.dtypes"
   ]
  },
  {
   "cell_type": "code",
   "execution_count": 8,
   "id": "758023ab",
   "metadata": {},
   "outputs": [],
   "source": [
    "data_lung=data_lung.rename(columns={\"LungCap(cc)\":\"Lungcap\"})\n",
    "data_lung=data_lung.rename(columns={\"Age(years)\":\"Age\"})"
   ]
  },
  {
   "cell_type": "code",
   "execution_count": 9,
   "id": "5e5d0bb4",
   "metadata": {},
   "outputs": [
    {
     "data": {
      "text/plain": [
       "Lungcap           0\n",
       "Age( years)       0\n",
       "Height(inches)    0\n",
       "Smoke             0\n",
       "Gender            0\n",
       "Caesarean         0\n",
       "dtype: int64"
      ]
     },
     "execution_count": 9,
     "metadata": {},
     "output_type": "execute_result"
    }
   ],
   "source": [
    "data_lung.isnull().sum()"
   ]
  },
  {
   "cell_type": "code",
   "execution_count": 10,
   "id": "d99d4d86",
   "metadata": {},
   "outputs": [],
   "source": [
    "from sklearn.preprocessing import LabelEncoder\n",
    "le=LabelEncoder()"
   ]
  },
  {
   "cell_type": "code",
   "execution_count": 11,
   "id": "fb871bb6",
   "metadata": {},
   "outputs": [],
   "source": [
    "data_lung.Smoke=le.fit_transform(data_lung.Smoke)\n",
    "data_lung.Gender=le.fit_transform(data_lung.Gender)\n",
    "data_lung.Caesarean=le.fit_transform(data_lung.Caesarean)"
   ]
  },
  {
   "cell_type": "code",
   "execution_count": 12,
   "id": "7c4b517e",
   "metadata": {},
   "outputs": [
    {
     "data": {
      "text/plain": [
       "Lungcap           float64\n",
       "Age( years)         int64\n",
       "Height(inches)    float64\n",
       "Smoke               int32\n",
       "Gender              int32\n",
       "Caesarean           int32\n",
       "dtype: object"
      ]
     },
     "execution_count": 12,
     "metadata": {},
     "output_type": "execute_result"
    }
   ],
   "source": [
    "data_lung.dtypes"
   ]
  },
  {
   "cell_type": "code",
   "execution_count": 13,
   "id": "1ebcb89f",
   "metadata": {},
   "outputs": [
    {
     "data": {
      "text/html": [
       "<div>\n",
       "<style scoped>\n",
       "    .dataframe tbody tr th:only-of-type {\n",
       "        vertical-align: middle;\n",
       "    }\n",
       "\n",
       "    .dataframe tbody tr th {\n",
       "        vertical-align: top;\n",
       "    }\n",
       "\n",
       "    .dataframe thead th {\n",
       "        text-align: right;\n",
       "    }\n",
       "</style>\n",
       "<table border=\"1\" class=\"dataframe\">\n",
       "  <thead>\n",
       "    <tr style=\"text-align: right;\">\n",
       "      <th></th>\n",
       "      <th>Lungcap</th>\n",
       "      <th>Age( years)</th>\n",
       "      <th>Height(inches)</th>\n",
       "      <th>Smoke</th>\n",
       "      <th>Gender</th>\n",
       "      <th>Caesarean</th>\n",
       "    </tr>\n",
       "  </thead>\n",
       "  <tbody>\n",
       "    <tr>\n",
       "      <th>Lungcap</th>\n",
       "      <td>1.000000</td>\n",
       "      <td>0.819675</td>\n",
       "      <td>0.912187</td>\n",
       "      <td>0.101374</td>\n",
       "      <td>0.169823</td>\n",
       "      <td>0.021317</td>\n",
       "    </tr>\n",
       "    <tr>\n",
       "      <th>Age( years)</th>\n",
       "      <td>0.819675</td>\n",
       "      <td>1.000000</td>\n",
       "      <td>0.835737</td>\n",
       "      <td>0.211232</td>\n",
       "      <td>-0.030312</td>\n",
       "      <td>0.056339</td>\n",
       "    </tr>\n",
       "    <tr>\n",
       "      <th>Height(inches)</th>\n",
       "      <td>0.912187</td>\n",
       "      <td>0.835737</td>\n",
       "      <td>1.000000</td>\n",
       "      <td>0.176534</td>\n",
       "      <td>0.141441</td>\n",
       "      <td>0.060397</td>\n",
       "    </tr>\n",
       "    <tr>\n",
       "      <th>Smoke</th>\n",
       "      <td>0.101374</td>\n",
       "      <td>0.211232</td>\n",
       "      <td>0.176534</td>\n",
       "      <td>1.000000</td>\n",
       "      <td>-0.053528</td>\n",
       "      <td>0.038330</td>\n",
       "    </tr>\n",
       "    <tr>\n",
       "      <th>Gender</th>\n",
       "      <td>0.169823</td>\n",
       "      <td>-0.030312</td>\n",
       "      <td>0.141441</td>\n",
       "      <td>-0.053528</td>\n",
       "      <td>1.000000</td>\n",
       "      <td>0.013070</td>\n",
       "    </tr>\n",
       "    <tr>\n",
       "      <th>Caesarean</th>\n",
       "      <td>0.021317</td>\n",
       "      <td>0.056339</td>\n",
       "      <td>0.060397</td>\n",
       "      <td>0.038330</td>\n",
       "      <td>0.013070</td>\n",
       "      <td>1.000000</td>\n",
       "    </tr>\n",
       "  </tbody>\n",
       "</table>\n",
       "</div>"
      ],
      "text/plain": [
       "                 Lungcap  Age( years)  Height(inches)     Smoke    Gender  \\\n",
       "Lungcap         1.000000     0.819675        0.912187  0.101374  0.169823   \n",
       "Age( years)     0.819675     1.000000        0.835737  0.211232 -0.030312   \n",
       "Height(inches)  0.912187     0.835737        1.000000  0.176534  0.141441   \n",
       "Smoke           0.101374     0.211232        0.176534  1.000000 -0.053528   \n",
       "Gender          0.169823    -0.030312        0.141441 -0.053528  1.000000   \n",
       "Caesarean       0.021317     0.056339        0.060397  0.038330  0.013070   \n",
       "\n",
       "                Caesarean  \n",
       "Lungcap          0.021317  \n",
       "Age( years)      0.056339  \n",
       "Height(inches)   0.060397  \n",
       "Smoke            0.038330  \n",
       "Gender           0.013070  \n",
       "Caesarean        1.000000  "
      ]
     },
     "execution_count": 13,
     "metadata": {},
     "output_type": "execute_result"
    }
   ],
   "source": [
    "corr1=data_lung.corr()\n",
    "corr1"
   ]
  },
  {
   "cell_type": "code",
   "execution_count": 14,
   "id": "0b244a22",
   "metadata": {},
   "outputs": [],
   "source": [
    "import matplotlib.pyplot as plt\n",
    "import seaborn as sns\n",
    "import warnings\n",
    "warnings.filterwarnings('ignore')"
   ]
  },
  {
   "cell_type": "code",
   "execution_count": 15,
   "id": "5b2be9bf",
   "metadata": {},
   "outputs": [
    {
     "data": {
      "image/png": "[encoded data removed]",
      "text/plain": [
       "<Figure size 1500x1000 with 2 Axes>"
      ]
     },
     "metadata": {},
     "output_type": "display_data"
    }
   ],
   "source": [
    "plt.figure(figsize=(15,10))\n",
    "heatmap=sns.heatmap(corr1,linewidth=1,annot=True,cmap=plt.cm.Blues)\n",
    "plt.title(\"Heatmap using seaborn\")\n",
    "plt.show()"
   ]
  },
  {
   "cell_type": "code",
   "execution_count": 16,
   "id": "fe85bfb9",
   "metadata": {},
   "outputs": [],
   "source": [
    "#1 METHOD\n",
    "import numpy as np\n",
    "outliers=[]\n",
    "def detect_outliers(var):\n",
    "    threshold=2.5\n",
    "    mean=np.mean(var)\n",
    "    std=np.std(var)\n",
    "    \n",
    "    for i in var:\n",
    "        z_score=(i-mean)/std\n",
    "        if np.abs(z_score)>threshold:\n",
    "            outliers.append(i)\n",
    "    return outliers"
   ]
  },
  {
   "cell_type": "code",
   "execution_count": 17,
   "id": "cc6d6913",
   "metadata": {},
   "outputs": [],
   "source": [
    "#out=detect_outliers(data_lung.Lungcap)\n",
    "#out"
   ]
  },
  {
   "cell_type": "code",
   "execution_count": 18,
   "id": "de9dbdf2",
   "metadata": {},
   "outputs": [],
   "source": [
    "#2 to remove outlier\n",
    "def remove_outliers(df,col,k=2.5):\n",
    "    mean=df[col].mean()\n",
    "    global df1\n",
    "    sd=df[col].std()\n",
    "    final_list=[x for x in df[col] if (x> mean - k*sd)]\n",
    "    final_list=[x for x in df[col] if (x< mean + k*sd)]\n",
    "    df1=df.loc[df[col].isin(final_list)];\n",
    "    print(df1.shape);return(df1)\n"
   ]
  },
  {
   "cell_type": "code",
   "execution_count": 19,
   "id": "d5774a1e",
   "metadata": {},
   "outputs": [],
   "source": [
    "#remove_outliers(data_lung,\"Lungcap\",k=2.5)"
   ]
  },
  {
   "cell_type": "markdown",
   "id": "941cf29d",
   "metadata": {},
   "source": [
    "# imputation of outlier"
   ]
  },
  {
   "cell_type": "code",
   "execution_count": 20,
   "id": "7b10f2a6",
   "metadata": {},
   "outputs": [
    {
     "data": {
      "text/plain": [
       "count    725.000000\n",
       "mean       7.863148\n",
       "std        2.662008\n",
       "min        0.507000\n",
       "25%        6.150000\n",
       "50%        8.000000\n",
       "75%        9.800000\n",
       "max       14.675000\n",
       "Name: Lungcap, dtype: float64"
      ]
     },
     "execution_count": 20,
     "metadata": {},
     "output_type": "execute_result"
    }
   ],
   "source": [
    "#Gaussian distribution=We have to apply Standard Deviation\n",
    "data_lung[\"Lungcap\"].describe()\n"
   ]
  },
  {
   "cell_type": "code",
   "execution_count": 21,
   "id": "4563d24c",
   "metadata": {},
   "outputs": [
    {
     "data": {
      "text/plain": [
       "<AxesSubplot:>"
      ]
     },
     "execution_count": 21,
     "metadata": {},
     "output_type": "execute_result"
    },
    {
     "data": {
      "image/png": "[encoded data removed]",
      "text/plain": [
       "<Figure size 640x480 with 1 Axes>"
      ]
     },
     "metadata": {},
     "output_type": "display_data"
    }
   ],
   "source": [
    "data_lung.boxplot()"
   ]
  },
  {
   "cell_type": "code",
   "execution_count": 22,
   "id": "674ff09e",
   "metadata": {},
   "outputs": [
    {
     "data": {
      "text/plain": [
       "<AxesSubplot:ylabel='Lungcap'>"
      ]
     },
     "execution_count": 22,
     "metadata": {},
     "output_type": "execute_result"
    },
    {
     "data": {
      "image/png": "[encoded data removed]",
      "text/plain": [
       "<Figure size 1000x1000 with 1 Axes>"
      ]
     },
     "metadata": {},
     "output_type": "display_data"
    }
   ],
   "source": [
    "fig=plt.figure(figsize=(10,10))\n",
    "sns.boxplot(data=data_lung,y=\"Lungcap\")"
   ]
  },
  {
   "cell_type": "code",
   "execution_count": 23,
   "id": "60196601",
   "metadata": {},
   "outputs": [
    {
     "data": {
      "text/plain": [
       "<AxesSubplot:>"
      ]
     },
     "execution_count": 23,
     "metadata": {},
     "output_type": "execute_result"
    },
    {
     "data": {
      "image/png": "[encoded data removed]",
      "text/plain": [
       "<Figure size 640x480 with 1 Axes>"
      ]
     },
     "metadata": {},
     "output_type": "display_data"
    }
   ],
   "source": [
    "data_lung.Lungcap.hist()"
   ]
  },
  {
   "cell_type": "code",
   "execution_count": 24,
   "id": "bb0a5be7",
   "metadata": {
    "scrolled": false
   },
   "outputs": [
    {
     "data": {
      "text/plain": [
       "<AxesSubplot:xlabel='Lungcap', ylabel='Density'>"
      ]
     },
     "execution_count": 24,
     "metadata": {},
     "output_type": "execute_result"
    },
    {
     "data": {
      "image/png": "[encoded data removed]",
      "text/plain": [
       "<Figure size 640x480 with 1 Axes>"
      ]
     },
     "metadata": {},
     "output_type": "display_data"
    }
   ],
   "source": [
    "sns.distplot(data_lung.Lungcap)"
   ]
  },
  {
   "cell_type": "code",
   "execution_count": 25,
   "id": "3ee47379",
   "metadata": {},
   "outputs": [
    {
     "name": "stdout",
     "output_type": "stream",
     "text": [
      "15.849172332243054 -0.12287715982926262\n"
     ]
    }
   ],
   "source": [
    "ub=data_lung[\"Lungcap\"].mean()+3*data_lung[\"Lungcap\"].std()\n",
    "lb=data_lung[\"Lungcap\"].mean()-3*data_lung[\"Lungcap\"].std()\n",
    "print(ub,lb)"
   ]
  },
  {
   "cell_type": "code",
   "execution_count": 26,
   "id": "74704f01",
   "metadata": {},
   "outputs": [],
   "source": [
    "data_lung.loc[data_lung[\"Lungcap\"]<0,\"Lungcap\"]=0"
   ]
  },
  {
   "cell_type": "code",
   "execution_count": 27,
   "id": "a6786a17",
   "metadata": {},
   "outputs": [
    {
     "data": {
      "text/plain": [
       "<AxesSubplot:>"
      ]
     },
     "execution_count": 27,
     "metadata": {},
     "output_type": "execute_result"
    },
    {
     "data": {
      "image/png": "[encoded data removed]",
      "text/plain": [
       "<Figure size 640x480 with 1 Axes>"
      ]
     },
     "metadata": {},
     "output_type": "display_data"
    }
   ],
   "source": [
    "data_lung.Lungcap.hist()"
   ]
  },
  {
   "cell_type": "code",
   "execution_count": 28,
   "id": "0da5e92c",
   "metadata": {},
   "outputs": [
    {
     "data": {
      "text/plain": [
       "<AxesSubplot:xlabel='Lungcap', ylabel='Density'>"
      ]
     },
     "execution_count": 28,
     "metadata": {},
     "output_type": "execute_result"
    },
    {
     "data": {
      "image/png": "[encoded data removed]",
      "text/plain": [
       "<Figure size 640x480 with 1 Axes>"
      ]
     },
     "metadata": {},
     "output_type": "display_data"
    }
   ],
   "source": [
    "sns.distplot(data_lung.Lungcap)"
   ]
  },
  {
   "cell_type": "markdown",
   "id": "1b6281b5",
   "metadata": {},
   "source": [
    "# IQR Method"
   ]
  },
  {
   "cell_type": "code",
   "execution_count": 29,
   "id": "4c1b972c",
   "metadata": {},
   "outputs": [
    {
     "data": {
      "text/html": [
       "<div>\n",
       "<style scoped>\n",
       "    .dataframe tbody tr th:only-of-type {\n",
       "        vertical-align: middle;\n",
       "    }\n",
       "\n",
       "    .dataframe tbody tr th {\n",
       "        vertical-align: top;\n",
       "    }\n",
       "\n",
       "    .dataframe thead th {\n",
       "        text-align: right;\n",
       "    }\n",
       "</style>\n",
       "<table border=\"1\" class=\"dataframe\">\n",
       "  <thead>\n",
       "    <tr style=\"text-align: right;\">\n",
       "      <th></th>\n",
       "      <th>Loan_ID</th>\n",
       "      <th>Gender</th>\n",
       "      <th>Married</th>\n",
       "      <th>Dependents</th>\n",
       "      <th>Education</th>\n",
       "      <th>Self_Employed</th>\n",
       "      <th>ApplicantIncome</th>\n",
       "      <th>CoapplicantIncome</th>\n",
       "      <th>LoanAmount</th>\n",
       "      <th>Loan_Amount_Term</th>\n",
       "      <th>Credit_History</th>\n",
       "      <th>Property_Area</th>\n",
       "      <th>Loan_Status</th>\n",
       "    </tr>\n",
       "  </thead>\n",
       "  <tbody>\n",
       "    <tr>\n",
       "      <th>0</th>\n",
       "      <td>LP001002</td>\n",
       "      <td>Male</td>\n",
       "      <td>No</td>\n",
       "      <td>0</td>\n",
       "      <td>Graduate</td>\n",
       "      <td>No</td>\n",
       "      <td>5849</td>\n",
       "      <td>0.0</td>\n",
       "      <td>NaN</td>\n",
       "      <td>360.0</td>\n",
       "      <td>1.0</td>\n",
       "      <td>Urban</td>\n",
       "      <td>Y</td>\n",
       "    </tr>\n",
       "    <tr>\n",
       "      <th>1</th>\n",
       "      <td>LP001003</td>\n",
       "      <td>Male</td>\n",
       "      <td>Yes</td>\n",
       "      <td>1</td>\n",
       "      <td>Graduate</td>\n",
       "      <td>No</td>\n",
       "      <td>4583</td>\n",
       "      <td>1508.0</td>\n",
       "      <td>128.0</td>\n",
       "      <td>360.0</td>\n",
       "      <td>1.0</td>\n",
       "      <td>Rural</td>\n",
       "      <td>N</td>\n",
       "    </tr>\n",
       "    <tr>\n",
       "      <th>2</th>\n",
       "      <td>LP001005</td>\n",
       "      <td>Male</td>\n",
       "      <td>Yes</td>\n",
       "      <td>0</td>\n",
       "      <td>Graduate</td>\n",
       "      <td>Yes</td>\n",
       "      <td>3000</td>\n",
       "      <td>0.0</td>\n",
       "      <td>66.0</td>\n",
       "      <td>360.0</td>\n",
       "      <td>1.0</td>\n",
       "      <td>Urban</td>\n",
       "      <td>Y</td>\n",
       "    </tr>\n",
       "    <tr>\n",
       "      <th>3</th>\n",
       "      <td>LP001006</td>\n",
       "      <td>Male</td>\n",
       "      <td>Yes</td>\n",
       "      <td>0</td>\n",
       "      <td>Not Graduate</td>\n",
       "      <td>No</td>\n",
       "      <td>2583</td>\n",
       "      <td>2358.0</td>\n",
       "      <td>120.0</td>\n",
       "      <td>360.0</td>\n",
       "      <td>1.0</td>\n",
       "      <td>Urban</td>\n",
       "      <td>Y</td>\n",
       "    </tr>\n",
       "    <tr>\n",
       "      <th>4</th>\n",
       "      <td>LP001008</td>\n",
       "      <td>Male</td>\n",
       "      <td>No</td>\n",
       "      <td>0</td>\n",
       "      <td>Graduate</td>\n",
       "      <td>No</td>\n",
       "      <td>6000</td>\n",
       "      <td>0.0</td>\n",
       "      <td>141.0</td>\n",
       "      <td>360.0</td>\n",
       "      <td>1.0</td>\n",
       "      <td>Urban</td>\n",
       "      <td>Y</td>\n",
       "    </tr>\n",
       "  </tbody>\n",
       "</table>\n",
       "</div>"
      ],
      "text/plain": [
       "    Loan_ID Gender Married Dependents     Education Self_Employed  \\\n",
       "0  LP001002   Male      No          0      Graduate            No   \n",
       "1  LP001003   Male     Yes          1      Graduate            No   \n",
       "2  LP001005   Male     Yes          0      Graduate           Yes   \n",
       "3  LP001006   Male     Yes          0  Not Graduate            No   \n",
       "4  LP001008   Male      No          0      Graduate            No   \n",
       "\n",
       "   ApplicantIncome  CoapplicantIncome  LoanAmount  Loan_Amount_Term  \\\n",
       "0             5849                0.0         NaN             360.0   \n",
       "1             4583             1508.0       128.0             360.0   \n",
       "2             3000                0.0        66.0             360.0   \n",
       "3             2583             2358.0       120.0             360.0   \n",
       "4             6000                0.0       141.0             360.0   \n",
       "\n",
       "   Credit_History Property_Area Loan_Status  \n",
       "0             1.0         Urban           Y  \n",
       "1             1.0         Rural           N  \n",
       "2             1.0         Urban           Y  \n",
       "3             1.0         Urban           Y  \n",
       "4             1.0         Urban           Y  "
      ]
     },
     "execution_count": 29,
     "metadata": {},
     "output_type": "execute_result"
    }
   ],
   "source": [
    "data_credit=pd.read_csv(r\"C:\\Users\\khush\\OneDrive\\Desktop\\Python Dataset\\Credit_Risk_data.csv\")\n",
    "data_credit.head()"
   ]
  },
  {
   "cell_type": "code",
   "execution_count": 30,
   "id": "7026e24a",
   "metadata": {},
   "outputs": [
    {
     "data": {
      "text/plain": [
       "(614, 13)"
      ]
     },
     "execution_count": 30,
     "metadata": {},
     "output_type": "execute_result"
    }
   ],
   "source": [
    "data_credit.shape"
   ]
  },
  {
   "cell_type": "code",
   "execution_count": 31,
   "id": "b6201577",
   "metadata": {},
   "outputs": [
    {
     "data": {
      "text/plain": [
       "Loan_ID               0\n",
       "Gender               13\n",
       "Married               3\n",
       "Dependents           15\n",
       "Education             0\n",
       "Self_Employed        32\n",
       "ApplicantIncome       0\n",
       "CoapplicantIncome     0\n",
       "LoanAmount           22\n",
       "Loan_Amount_Term     14\n",
       "Credit_History       50\n",
       "Property_Area         0\n",
       "Loan_Status           0\n",
       "dtype: int64"
      ]
     },
     "execution_count": 31,
     "metadata": {},
     "output_type": "execute_result"
    }
   ],
   "source": [
    "data_credit.isnull().sum()"
   ]
  },
  {
   "cell_type": "code",
   "execution_count": 32,
   "id": "52241246",
   "metadata": {},
   "outputs": [
    {
     "data": {
      "text/plain": [
       "<AxesSubplot:>"
      ]
     },
     "execution_count": 32,
     "metadata": {},
     "output_type": "execute_result"
    },
    {
     "data": {
      "image/png": "[encoded data removed]",
      "text/plain": [
       "<Figure size 640x480 with 1 Axes>"
      ]
     },
     "metadata": {},
     "output_type": "display_data"
    }
   ],
   "source": [
    "data_credit.boxplot()"
   ]
  },
  {
   "cell_type": "code",
   "execution_count": 33,
   "id": "7b76df23",
   "metadata": {},
   "outputs": [
    {
     "data": {
      "text/plain": [
       "<AxesSubplot:ylabel='ApplicantIncome'>"
      ]
     },
     "execution_count": 33,
     "metadata": {},
     "output_type": "execute_result"
    },
    {
     "data": {
      "image/png": "[encoded data removed]",
      "text/plain": [
       "<Figure size 1000x1000 with 1 Axes>"
      ]
     },
     "metadata": {},
     "output_type": "display_data"
    }
   ],
   "source": [
    "fig=plt.figure(figsize=(10,10))\n",
    "sns.boxplot(data=data_credit,y=\"ApplicantIncome\")"
   ]
  },
  {
   "cell_type": "code",
   "execution_count": 34,
   "id": "3a003c7e",
   "metadata": {},
   "outputs": [
    {
     "data": {
      "text/plain": [
       "<AxesSubplot:xlabel='ApplicantIncome', ylabel='Density'>"
      ]
     },
     "execution_count": 34,
     "metadata": {},
     "output_type": "execute_result"
    },
    {
     "data": {
      "image/png": "[encoded data removed]",
      "text/plain": [
       "<Figure size 640x480 with 1 Axes>"
      ]
     },
     "metadata": {},
     "output_type": "display_data"
    }
   ],
   "source": [
    "sns.distplot(data_credit.ApplicantIncome)"
   ]
  },
  {
   "cell_type": "code",
   "execution_count": 35,
   "id": "4ab093b0",
   "metadata": {},
   "outputs": [
    {
     "data": {
      "text/plain": [
       "<AxesSubplot:>"
      ]
     },
     "execution_count": 35,
     "metadata": {},
     "output_type": "execute_result"
    },
    {
     "data": {
      "image/png": "[encoded data removed]",
      "text/plain": [
       "<Figure size 640x480 with 1 Axes>"
      ]
     },
     "metadata": {},
     "output_type": "display_data"
    }
   ],
   "source": [
    "data_credit.ApplicantIncome.hist()"
   ]
  },
  {
   "cell_type": "code",
   "execution_count": 36,
   "id": "32e5028e",
   "metadata": {},
   "outputs": [
    {
     "data": {
      "text/plain": [
       "count      614.000000\n",
       "mean      5403.459283\n",
       "std       6109.041673\n",
       "min        150.000000\n",
       "25%       2877.500000\n",
       "50%       3812.500000\n",
       "75%       5795.000000\n",
       "max      81000.000000\n",
       "Name: ApplicantIncome, dtype: float64"
      ]
     },
     "execution_count": 36,
     "metadata": {},
     "output_type": "execute_result"
    }
   ],
   "source": [
    "data_credit.ApplicantIncome.describe()"
   ]
  },
  {
   "cell_type": "code",
   "execution_count": 37,
   "id": "dc2f2526",
   "metadata": {},
   "outputs": [
    {
     "data": {
      "text/plain": [
       "2917.5"
      ]
     },
     "execution_count": 37,
     "metadata": {},
     "output_type": "execute_result"
    }
   ],
   "source": [
    "IQR=data_credit.ApplicantIncome.quantile(0.75)-data_credit.ApplicantIncome.quantile(0.25)\n",
    "IQR"
   ]
  },
  {
   "cell_type": "code",
   "execution_count": 38,
   "id": "94337039",
   "metadata": {},
   "outputs": [
    {
     "name": "stdout",
     "output_type": "stream",
     "text": [
      "14547.5 -5875.0\n"
     ]
    }
   ],
   "source": [
    "ub1=data_credit.ApplicantIncome.quantile(0.75)+3*IQR\n",
    "lb1=data_credit.ApplicantIncome.quantile(0.25)-3*IQR\n",
    "print(ub1,lb1)"
   ]
  },
  {
   "cell_type": "code",
   "execution_count": 39,
   "id": "c522adc3",
   "metadata": {},
   "outputs": [],
   "source": [
    "data_credit.loc[data_credit[\"ApplicantIncome\"]>14547,\"ApplicantIncome\"]=14547"
   ]
  },
  {
   "cell_type": "code",
   "execution_count": 40,
   "id": "6644a3a3",
   "metadata": {},
   "outputs": [
    {
     "data": {
      "text/plain": [
       "<AxesSubplot:xlabel='ApplicantIncome', ylabel='Density'>"
      ]
     },
     "execution_count": 40,
     "metadata": {},
     "output_type": "execute_result"
    },
    {
     "data": {
      "image/png": "[encoded data removed]",
      "text/plain": [
       "<Figure size 640x480 with 1 Axes>"
      ]
     },
     "metadata": {},
     "output_type": "display_data"
    }
   ],
   "source": [
    "sns.distplot(data_credit.ApplicantIncome)"
   ]
  },
  {
   "cell_type": "code",
   "execution_count": 41,
   "id": "e5b50af8",
   "metadata": {},
   "outputs": [
    {
     "data": {
      "text/plain": [
       "<AxesSubplot:>"
      ]
     },
     "execution_count": 41,
     "metadata": {},
     "output_type": "execute_result"
    },
    {
     "data": {
      "image/png": "[encoded data removed]",
      "text/plain": [
       "<Figure size 640x480 with 1 Axes>"
      ]
     },
     "metadata": {},
     "output_type": "display_data"
    }
   ],
   "source": [
    "data_credit.ApplicantIncome.hist()"
   ]
  },
  {
   "cell_type": "code",
   "execution_count": 42,
   "id": "30d56cb0",
   "metadata": {},
   "outputs": [
    {
     "data": {
      "text/plain": [
       "<AxesSubplot:ylabel='CoapplicantIncome'>"
      ]
     },
     "execution_count": 42,
     "metadata": {},
     "output_type": "execute_result"
    },
    {
     "data": {
      "image/png": "[encoded data removed]",
      "text/plain": [
       "<Figure size 1000x1000 with 1 Axes>"
      ]
     },
     "metadata": {},
     "output_type": "display_data"
    }
   ],
   "source": [
    "fig=plt.figure(figsize=(10,10))\n",
    "sns.boxplot(data=data_credit,y=\"CoapplicantIncome\")"
   ]
  },
  {
   "cell_type": "code",
   "execution_count": 43,
   "id": "60096a49",
   "metadata": {},
   "outputs": [
    {
     "data": {
      "text/plain": [
       "7.491531216657306"
      ]
     },
     "execution_count": 43,
     "metadata": {},
     "output_type": "execute_result"
    }
   ],
   "source": [
    "data_credit.CoapplicantIncome.skew()"
   ]
  },
  {
   "cell_type": "code",
   "execution_count": 44,
   "id": "69dfb863",
   "metadata": {},
   "outputs": [
    {
     "data": {
      "text/plain": [
       "<AxesSubplot:xlabel='CoapplicantIncome', ylabel='Density'>"
      ]
     },
     "execution_count": 44,
     "metadata": {},
     "output_type": "execute_result"
    },
    {
     "data": {
      "image/png": "[encoded data removed]",
      "text/plain": [
       "<Figure size 640x480 with 1 Axes>"
      ]
     },
     "metadata": {},
     "output_type": "display_data"
    }
   ],
   "source": [
    "sns.distplot(data_credit.CoapplicantIncome)"
   ]
  },
  {
   "cell_type": "code",
   "execution_count": 45,
   "id": "5536043d",
   "metadata": {},
   "outputs": [
    {
     "data": {
      "text/plain": [
       "<AxesSubplot:>"
      ]
     },
     "execution_count": 45,
     "metadata": {},
     "output_type": "execute_result"
    },
    {
     "data": {
      "image/png": "[encoded data removed]",
      "text/plain": [
       "<Figure size 640x480 with 1 Axes>"
      ]
     },
     "metadata": {},
     "output_type": "display_data"
    }
   ],
   "source": [
    "data_credit.CoapplicantIncome.hist()"
   ]
  },
  {
   "cell_type": "code",
   "execution_count": 46,
   "id": "879d4648",
   "metadata": {},
   "outputs": [
    {
     "data": {
      "text/plain": [
       "count      614.000000\n",
       "mean      1621.245798\n",
       "std       2926.248369\n",
       "min          0.000000\n",
       "25%          0.000000\n",
       "50%       1188.500000\n",
       "75%       2297.250000\n",
       "max      41667.000000\n",
       "Name: CoapplicantIncome, dtype: float64"
      ]
     },
     "execution_count": 46,
     "metadata": {},
     "output_type": "execute_result"
    }
   ],
   "source": [
    "data_credit.CoapplicantIncome.describe()"
   ]
  },
  {
   "cell_type": "code",
   "execution_count": 47,
   "id": "4905a4c5",
   "metadata": {},
   "outputs": [
    {
     "data": {
      "text/plain": [
       "2297.25"
      ]
     },
     "execution_count": 47,
     "metadata": {},
     "output_type": "execute_result"
    }
   ],
   "source": [
    "IQR1=data_credit.CoapplicantIncome.quantile(0.75)-data_credit.CoapplicantIncome.quantile(0.25)\n",
    "IQR1"
   ]
  },
  {
   "cell_type": "code",
   "execution_count": 48,
   "id": "c3964feb",
   "metadata": {},
   "outputs": [
    {
     "name": "stdout",
     "output_type": "stream",
     "text": [
      "11049.75 -8752.5\n"
     ]
    }
   ],
   "source": [
    "ub1=data_credit.CoapplicantIncome.quantile(0.75)+3*IQR\n",
    "lb1=data_credit.CoapplicantIncome.quantile(0.25)-3*IQR\n",
    "print(ub1,lb1)"
   ]
  },
  {
   "cell_type": "code",
   "execution_count": 49,
   "id": "f63365da",
   "metadata": {},
   "outputs": [],
   "source": [
    "data_credit.loc[data_credit[\"CoapplicantIncome\"]>9189,\"CoapplicantIncome\"]=9189"
   ]
  },
  {
   "cell_type": "code",
   "execution_count": 50,
   "id": "58a38563",
   "metadata": {},
   "outputs": [
    {
     "data": {
      "text/plain": [
       "<AxesSubplot:xlabel='CoapplicantIncome', ylabel='Density'>"
      ]
     },
     "execution_count": 50,
     "metadata": {},
     "output_type": "execute_result"
    },
    {
     "data": {
      "image/png": "[encoded data removed]",
      "text/plain": [
       "<Figure size 640x480 with 1 Axes>"
      ]
     },
     "metadata": {},
     "output_type": "display_data"
    }
   ],
   "source": [
    "sns.distplot(data_credit.CoapplicantIncome)"
   ]
  },
  {
   "cell_type": "code",
   "execution_count": 51,
   "id": "dc8eb951",
   "metadata": {},
   "outputs": [
    {
     "data": {
      "text/plain": [
       "<AxesSubplot:>"
      ]
     },
     "execution_count": 51,
     "metadata": {},
     "output_type": "execute_result"
    },
    {
     "data": {
      "image/png": "[encoded data removed]",
      "text/plain": [
       "<Figure size 640x480 with 1 Axes>"
      ]
     },
     "metadata": {},
     "output_type": "display_data"
    }
   ],
   "source": [
    "data_credit.CoapplicantIncome.hist()"
   ]
  },
  {
   "cell_type": "code",
   "execution_count": 52,
   "id": "0e6a2656",
   "metadata": {},
   "outputs": [
    {
     "data": {
      "text/plain": [
       "1.657232682860982"
      ]
     },
     "execution_count": 52,
     "metadata": {},
     "output_type": "execute_result"
    }
   ],
   "source": [
    "data_credit.CoapplicantIncome.skew()"
   ]
  },
  {
   "cell_type": "code",
   "execution_count": 53,
   "id": "2ab54486",
   "metadata": {},
   "outputs": [
    {
     "data": {
      "text/plain": [
       "ApplicantIncome      1.710840\n",
       "CoapplicantIncome    1.657233\n",
       "LoanAmount           2.677552\n",
       "Loan_Amount_Term    -2.362414\n",
       "Credit_History      -1.882361\n",
       "dtype: float64"
      ]
     },
     "execution_count": 53,
     "metadata": {},
     "output_type": "execute_result"
    }
   ],
   "source": [
    "data_credit.skew()"
   ]
  },
  {
   "cell_type": "markdown",
   "id": "d63ebf3c",
   "metadata": {},
   "source": [
    "# Skewness Treatment"
   ]
  },
  {
   "cell_type": "code",
   "execution_count": 54,
   "id": "e5dd1969",
   "metadata": {},
   "outputs": [
    {
     "data": {
      "text/plain": [
       "ApplicantIncome      1.710840\n",
       "CoapplicantIncome    1.657233\n",
       "LoanAmount           2.677552\n",
       "Loan_Amount_Term    -2.362414\n",
       "Credit_History      -1.882361\n",
       "dtype: float64"
      ]
     },
     "execution_count": 54,
     "metadata": {},
     "output_type": "execute_result"
    }
   ],
   "source": [
    "data_credit.skew()"
   ]
  },
  {
   "cell_type": "code",
   "execution_count": 55,
   "id": "ca4beac4",
   "metadata": {},
   "outputs": [
    {
     "data": {
      "image/png": "[encoded data removed]",
      "text/plain": [
       "<Figure size 640x480 with 1 Axes>"
      ]
     },
     "metadata": {},
     "output_type": "display_data"
    }
   ],
   "source": [
    "sns.distplot(data_credit.ApplicantIncome)\n",
    "plt.show()"
   ]
  },
  {
   "cell_type": "code",
   "execution_count": 56,
   "id": "b152f1c4",
   "metadata": {},
   "outputs": [
    {
     "data": {
      "text/plain": [
       "-inf"
      ]
     },
     "execution_count": 56,
     "metadata": {},
     "output_type": "execute_result"
    }
   ],
   "source": [
    "np.log(0)"
   ]
  },
  {
   "cell_type": "code",
   "execution_count": 57,
   "id": "d815da40",
   "metadata": {},
   "outputs": [],
   "source": [
    "#if column is -ve skewed-square transformation\n",
    "#+ve skewd- squareroot,cuberoot,log\n",
    "#for log transformation column should be free from'0'"
   ]
  },
  {
   "cell_type": "code",
   "execution_count": 58,
   "id": "32edd713",
   "metadata": {},
   "outputs": [],
   "source": [
    "#data_credit[\"ApplicantIncome\"]=np.sqrt(data_credit[\"ApplicantIncome\"])"
   ]
  },
  {
   "cell_type": "code",
   "execution_count": 59,
   "id": "5746604f",
   "metadata": {},
   "outputs": [],
   "source": [
    "#data_credit.ApplicantIncome.skew()"
   ]
  },
  {
   "cell_type": "code",
   "execution_count": 60,
   "id": "a7e8cca9",
   "metadata": {},
   "outputs": [],
   "source": [
    "#sns.distplot(data_credit.ApplicantIncome)"
   ]
  },
  {
   "cell_type": "code",
   "execution_count": 61,
   "id": "ad050922",
   "metadata": {},
   "outputs": [],
   "source": [
    "#data_credit[\"ApplicantIncome\"]=np.cbrt(data_credit[\"ApplicantIncome\"])"
   ]
  },
  {
   "cell_type": "code",
   "execution_count": 62,
   "id": "e5299fdf",
   "metadata": {},
   "outputs": [],
   "source": [
    "#data_credit.ApplicantIncome.skew()"
   ]
  },
  {
   "cell_type": "code",
   "execution_count": 63,
   "id": "941275a5",
   "metadata": {},
   "outputs": [],
   "source": [
    "#sns.distplot(data_credit.ApplicantIncome)"
   ]
  },
  {
   "cell_type": "code",
   "execution_count": 64,
   "id": "097caaa5",
   "metadata": {},
   "outputs": [],
   "source": [
    "#d1=data_credit[data_credit.ApplicantIncome>0]"
   ]
  },
  {
   "cell_type": "code",
   "execution_count": 65,
   "id": "088df718",
   "metadata": {},
   "outputs": [],
   "source": [
    "#d1.shape"
   ]
  },
  {
   "cell_type": "code",
   "execution_count": 66,
   "id": "3ce8ea70",
   "metadata": {},
   "outputs": [],
   "source": [
    "data_credit[\"ApplicantIncome\"]=np.log(data_credit[\"ApplicantIncome\"])"
   ]
  },
  {
   "cell_type": "code",
   "execution_count": 67,
   "id": "09180499",
   "metadata": {},
   "outputs": [],
   "source": [
    "#data_credit.ApplicantIncome.skew()"
   ]
  },
  {
   "cell_type": "code",
   "execution_count": 68,
   "id": "0518a8e4",
   "metadata": {},
   "outputs": [
    {
     "data": {
      "text/plain": [
       "<AxesSubplot:xlabel='ApplicantIncome', ylabel='Density'>"
      ]
     },
     "execution_count": 68,
     "metadata": {},
     "output_type": "execute_result"
    },
    {
     "data": {
      "image/png": "[encoded data removed]",
      "text/plain": [
       "<Figure size 640x480 with 1 Axes>"
      ]
     },
     "metadata": {},
     "output_type": "display_data"
    }
   ],
   "source": [
    "sns.distplot(data_credit.ApplicantIncome)"
   ]
  },
  {
   "cell_type": "code",
   "execution_count": 69,
   "id": "0fe902be",
   "metadata": {},
   "outputs": [
    {
     "data": {
      "text/plain": [
       "1.657232682860982"
      ]
     },
     "execution_count": 69,
     "metadata": {},
     "output_type": "execute_result"
    }
   ],
   "source": [
    "data_credit.CoapplicantIncome.skew()"
   ]
  },
  {
   "cell_type": "code",
   "execution_count": 70,
   "id": "fd47eb5d",
   "metadata": {},
   "outputs": [],
   "source": [
    "#data_credit[\"CoapplicantIncome\"]=np.sqrt(data_credit[\"CoapplicantIncome\"])"
   ]
  },
  {
   "cell_type": "code",
   "execution_count": 71,
   "id": "1de11249",
   "metadata": {},
   "outputs": [],
   "source": [
    "#data_credit.CoapplicantIncome.skew()"
   ]
  },
  {
   "cell_type": "code",
   "execution_count": 72,
   "id": "ff0fc2cf",
   "metadata": {},
   "outputs": [],
   "source": [
    "#sns.distplot(data_credit.ApplicantIncome)"
   ]
  },
  {
   "cell_type": "code",
   "execution_count": 73,
   "id": "0e9ec18d",
   "metadata": {},
   "outputs": [],
   "source": [
    "data_credit[\"CoapplicantIncome\"]=np.cbrt(data_credit[\"CoapplicantIncome\"])"
   ]
  },
  {
   "cell_type": "code",
   "execution_count": 74,
   "id": "4d14cad9",
   "metadata": {},
   "outputs": [
    {
     "data": {
      "text/plain": [
       "0.03144401295367053"
      ]
     },
     "execution_count": 74,
     "metadata": {},
     "output_type": "execute_result"
    }
   ],
   "source": [
    "data_credit.CoapplicantIncome.skew()"
   ]
  },
  {
   "cell_type": "code",
   "execution_count": 75,
   "id": "ef0d8b43",
   "metadata": {},
   "outputs": [
    {
     "data": {
      "text/plain": [
       "<AxesSubplot:xlabel='CoapplicantIncome', ylabel='Density'>"
      ]
     },
     "execution_count": 75,
     "metadata": {},
     "output_type": "execute_result"
    },
    {
     "data": {
      "image/png": "[encoded data removed]",
      "text/plain": [
       "<Figure size 640x480 with 1 Axes>"
      ]
     },
     "metadata": {},
     "output_type": "display_data"
    }
   ],
   "source": [
    "sns.distplot(data_credit.CoapplicantIncome)"
   ]
  },
  {
   "cell_type": "code",
   "execution_count": 76,
   "id": "05f2a31b",
   "metadata": {},
   "outputs": [],
   "source": [
    "#data_credit[\"CoapplicantIncome\"]=np.log(data_credit[\"CoapplicantIncome\"])"
   ]
  },
  {
   "cell_type": "code",
   "execution_count": 77,
   "id": "cb3aba15",
   "metadata": {},
   "outputs": [],
   "source": [
    "#data_credit.CoapplicantIncome.skew()"
   ]
  },
  {
   "cell_type": "code",
   "execution_count": 78,
   "id": "4adf6b17",
   "metadata": {},
   "outputs": [],
   "source": [
    "#sns.distplot(data_credit.CoapplicantIncome)"
   ]
  },
  {
   "cell_type": "code",
   "execution_count": 79,
   "id": "9e2f98e0",
   "metadata": {},
   "outputs": [
    {
     "data": {
      "text/plain": [
       "2.677551679256059"
      ]
     },
     "execution_count": 79,
     "metadata": {},
     "output_type": "execute_result"
    }
   ],
   "source": [
    "data_credit.LoanAmount.skew()"
   ]
  },
  {
   "cell_type": "code",
   "execution_count": 80,
   "id": "aa1002df",
   "metadata": {},
   "outputs": [],
   "source": [
    "#data_credit[\"LoanAmount\"]=np.sqrt(data_credit[\"LoanAmount\"])"
   ]
  },
  {
   "cell_type": "code",
   "execution_count": 81,
   "id": "a2e335cd",
   "metadata": {},
   "outputs": [],
   "source": [
    "#data_credit.CoapplicantIncome.skew()"
   ]
  },
  {
   "cell_type": "code",
   "execution_count": 82,
   "id": "2a762de5",
   "metadata": {},
   "outputs": [],
   "source": [
    "#sns.distplot(data_credit.ApplicantIncome)"
   ]
  },
  {
   "cell_type": "code",
   "execution_count": 83,
   "id": "2ec130f0",
   "metadata": {},
   "outputs": [],
   "source": [
    "#data_credit[\"LoanAmount\"]=np.cbrt(data_credit[\"LoanAmount\"])"
   ]
  },
  {
   "cell_type": "code",
   "execution_count": 84,
   "id": "49178484",
   "metadata": {},
   "outputs": [],
   "source": [
    "#data_credit.LoanAmount.skew()"
   ]
  },
  {
   "cell_type": "code",
   "execution_count": 85,
   "id": "86b2f3ad",
   "metadata": {},
   "outputs": [],
   "source": [
    "#sns.distplot(data_credit.LoanAmount)"
   ]
  },
  {
   "cell_type": "code",
   "execution_count": 86,
   "id": "76d54672",
   "metadata": {},
   "outputs": [],
   "source": [
    "data_credit[\"LoanAmount\"]=np.log(data_credit[\"LoanAmount\"])"
   ]
  },
  {
   "cell_type": "code",
   "execution_count": 87,
   "id": "f185a3a7",
   "metadata": {},
   "outputs": [
    {
     "data": {
      "text/plain": [
       "-0.19299810452881644"
      ]
     },
     "execution_count": 87,
     "metadata": {},
     "output_type": "execute_result"
    }
   ],
   "source": [
    "data_credit.LoanAmount.skew()"
   ]
  },
  {
   "cell_type": "code",
   "execution_count": 88,
   "id": "5057b5f8",
   "metadata": {},
   "outputs": [
    {
     "data": {
      "text/plain": [
       "<AxesSubplot:xlabel='LoanAmount', ylabel='Density'>"
      ]
     },
     "execution_count": 88,
     "metadata": {},
     "output_type": "execute_result"
    },
    {
     "data": {
      "image/png": "[encoded data removed]",
      "text/plain": [
       "<Figure size 640x480 with 1 Axes>"
      ]
     },
     "metadata": {},
     "output_type": "display_data"
    }
   ],
   "source": [
    "sns.distplot(data_credit.LoanAmount)"
   ]
  },
  {
   "cell_type": "code",
   "execution_count": 89,
   "id": "17729e48",
   "metadata": {},
   "outputs": [
    {
     "data": {
      "text/html": [
       "<div>\n",
       "<style scoped>\n",
       "    .dataframe tbody tr th:only-of-type {\n",
       "        vertical-align: middle;\n",
       "    }\n",
       "\n",
       "    .dataframe tbody tr th {\n",
       "        vertical-align: top;\n",
       "    }\n",
       "\n",
       "    .dataframe thead th {\n",
       "        text-align: right;\n",
       "    }\n",
       "</style>\n",
       "<table border=\"1\" class=\"dataframe\">\n",
       "  <thead>\n",
       "    <tr style=\"text-align: right;\">\n",
       "      <th></th>\n",
       "      <th>Lungcap</th>\n",
       "      <th>Age( years)</th>\n",
       "      <th>Height(inches)</th>\n",
       "      <th>Smoke</th>\n",
       "      <th>Gender</th>\n",
       "      <th>Caesarean</th>\n",
       "    </tr>\n",
       "  </thead>\n",
       "  <tbody>\n",
       "    <tr>\n",
       "      <th>0</th>\n",
       "      <td>6.475</td>\n",
       "      <td>6</td>\n",
       "      <td>62.1</td>\n",
       "      <td>0</td>\n",
       "      <td>1</td>\n",
       "      <td>0</td>\n",
       "    </tr>\n",
       "    <tr>\n",
       "      <th>1</th>\n",
       "      <td>10.125</td>\n",
       "      <td>18</td>\n",
       "      <td>74.7</td>\n",
       "      <td>1</td>\n",
       "      <td>0</td>\n",
       "      <td>0</td>\n",
       "    </tr>\n",
       "  </tbody>\n",
       "</table>\n",
       "</div>"
      ],
      "text/plain": [
       "   Lungcap  Age( years)  Height(inches)  Smoke  Gender  Caesarean\n",
       "0    6.475            6            62.1      0       1          0\n",
       "1   10.125           18            74.7      1       0          0"
      ]
     },
     "execution_count": 89,
     "metadata": {},
     "output_type": "execute_result"
    }
   ],
   "source": [
    "data_lung.head(2)"
   ]
  },
  {
   "cell_type": "code",
   "execution_count": 90,
   "id": "37e8755d",
   "metadata": {},
   "outputs": [],
   "source": [
    "x=data_lung.iloc[:,1:]"
   ]
  },
  {
   "cell_type": "code",
   "execution_count": 91,
   "id": "da4d2edb",
   "metadata": {},
   "outputs": [
    {
     "data": {
      "text/html": [
       "<div>\n",
       "<style scoped>\n",
       "    .dataframe tbody tr th:only-of-type {\n",
       "        vertical-align: middle;\n",
       "    }\n",
       "\n",
       "    .dataframe tbody tr th {\n",
       "        vertical-align: top;\n",
       "    }\n",
       "\n",
       "    .dataframe thead th {\n",
       "        text-align: right;\n",
       "    }\n",
       "</style>\n",
       "<table border=\"1\" class=\"dataframe\">\n",
       "  <thead>\n",
       "    <tr style=\"text-align: right;\">\n",
       "      <th></th>\n",
       "      <th>Age( years)</th>\n",
       "      <th>Height(inches)</th>\n",
       "      <th>Smoke</th>\n",
       "      <th>Gender</th>\n",
       "      <th>Caesarean</th>\n",
       "    </tr>\n",
       "  </thead>\n",
       "  <tbody>\n",
       "    <tr>\n",
       "      <th>0</th>\n",
       "      <td>6</td>\n",
       "      <td>62.1</td>\n",
       "      <td>0</td>\n",
       "      <td>1</td>\n",
       "      <td>0</td>\n",
       "    </tr>\n",
       "    <tr>\n",
       "      <th>1</th>\n",
       "      <td>18</td>\n",
       "      <td>74.7</td>\n",
       "      <td>1</td>\n",
       "      <td>0</td>\n",
       "      <td>0</td>\n",
       "    </tr>\n",
       "  </tbody>\n",
       "</table>\n",
       "</div>"
      ],
      "text/plain": [
       "   Age( years)  Height(inches)  Smoke  Gender  Caesarean\n",
       "0            6            62.1      0       1          0\n",
       "1           18            74.7      1       0          0"
      ]
     },
     "execution_count": 91,
     "metadata": {},
     "output_type": "execute_result"
    }
   ],
   "source": [
    "x.head(2)"
   ]
  },
  {
   "cell_type": "code",
   "execution_count": 92,
   "id": "296234db",
   "metadata": {},
   "outputs": [],
   "source": [
    "y=data_lung.iloc[:,0]"
   ]
  },
  {
   "cell_type": "code",
   "execution_count": 93,
   "id": "a42d1f35",
   "metadata": {},
   "outputs": [
    {
     "data": {
      "text/plain": [
       "0     6.475\n",
       "1    10.125\n",
       "Name: Lungcap, dtype: float64"
      ]
     },
     "execution_count": 93,
     "metadata": {},
     "output_type": "execute_result"
    }
   ],
   "source": [
    "y.head(2)"
   ]
  },
  {
   "cell_type": "code",
   "execution_count": 94,
   "id": "b843eb7a",
   "metadata": {},
   "outputs": [],
   "source": [
    "import sklearn\n",
    "from sklearn.model_selection import train_test_split"
   ]
  },
  {
   "cell_type": "code",
   "execution_count": 95,
   "id": "9b185faa",
   "metadata": {},
   "outputs": [],
   "source": [
    "x_train,x_test,y_train,y_test=train_test_split(x,y,test_size=0.2,random_state=101)"
   ]
  },
  {
   "cell_type": "code",
   "execution_count": 96,
   "id": "b5f20d91",
   "metadata": {},
   "outputs": [
    {
     "data": {
      "text/plain": [
       "((580, 5), (145, 5), (580,), (145,))"
      ]
     },
     "execution_count": 96,
     "metadata": {},
     "output_type": "execute_result"
    }
   ],
   "source": [
    "x_train.shape,x_test.shape,y_train.shape,y_test.shape"
   ]
  },
  {
   "cell_type": "code",
   "execution_count": 97,
   "id": "8ee2f1bd",
   "metadata": {},
   "outputs": [],
   "source": [
    "from sklearn import linear_model\n",
    "ln=linear_model.LinearRegression()"
   ]
  },
  {
   "cell_type": "code",
   "execution_count": 98,
   "id": "2f5c578c",
   "metadata": {},
   "outputs": [
    {
     "data": {
      "text/plain": [
       "LinearRegression()"
      ]
     },
     "execution_count": 98,
     "metadata": {},
     "output_type": "execute_result"
    }
   ],
   "source": [
    "ln.fit(x_train,y_train)"
   ]
  },
  {
   "cell_type": "code",
   "execution_count": 99,
   "id": "ac78555a",
   "metadata": {},
   "outputs": [
    {
     "data": {
      "text/plain": [
       "array([ 7.54766894,  5.68204508,  6.32558014, 10.79158567,  3.47236857,\n",
       "        5.63130484,  7.27875094,  4.71141679,  8.91580848,  4.95831192,\n",
       "       11.72347409,  7.56462836,  5.91965819, 10.37350125,  4.21082044,\n",
       "        7.82945863,  5.41906185,  7.88227746,  4.6579582 ,  8.00433113,\n",
       "       11.06137499,  7.67539087,  8.5790287 ,  8.42968843,  8.20135733,\n",
       "        6.05850917,  9.8407287 ,  9.43496886,  8.03985459, 11.47657896,\n",
       "        7.90740517,  6.75959055, 10.03728811,  4.85683143, 10.93884735,\n",
       "        9.04513502,  3.28821404,  8.88635062,  4.40425698,  7.48579965,\n",
       "        5.69404545,  8.71988882,  7.64073873,  8.61160225,  7.08915972,\n",
       "        5.98920489,  6.82617649,  8.01569174,  8.52597463,  6.22001192,\n",
       "        4.28668839,  8.39503629,  6.52173503,  5.43474542,  9.92900154,\n",
       "       10.49515758, 13.22031126,  4.10005794,  1.03436096,  3.05035852,\n",
       "       10.78230365, 11.30307584, 10.46074067,  4.86363752,  6.48708289,\n",
       "        7.91052805, 11.23896584,  2.01698961,  4.45499722,  9.76230451,\n",
       "        9.77678081, 10.73812708,  9.97045976,  7.11869788, 10.02528774,\n",
       "        9.20416183,  7.3006117 ,  8.28139332,  8.57135848,  3.92367436,\n",
       "        5.85963593,  9.36838293,  9.55253745,  3.84883265, 11.05577618,\n",
       "        7.26675057,  4.88628929,  7.09844174,  7.70484872,  7.99839636,\n",
       "       10.93452438,  7.90100361,  4.40425698, 10.55125421, 10.21400765,\n",
       "        4.81017893,  8.72212952,  8.28572348,  8.02104814, 11.61391886,\n",
       "        3.30798536,  7.29483904, 12.06256769,  7.16798843,  7.97487328,\n",
       "        7.55101619,  5.02514027,  4.78192834,  7.37503714,  6.18783571,\n",
       "       10.3755104 ,  2.12775212,  9.50572283,  8.02785422, 11.15789643,\n",
       "        9.64721185, 10.5725366 ,  8.0024841 ,  9.45105696, 10.33220514,\n",
       "        5.81120951,  9.80215093,  1.94087925,  7.74469515, 11.08674511,\n",
       "        9.12333483, 10.98774056, 10.23240957, 10.14124453,  7.81561123,\n",
       "        3.08525307,  4.97151956, 10.15646132,  6.95302709,  9.83432714,\n",
       "        8.1452607 ,  8.30283782, 10.48442587,  9.85969726,  8.24937923,\n",
       "       10.05234279,  9.58743201,  6.76351618,  5.51373625,  8.5165305 ])"
      ]
     },
     "execution_count": 99,
     "metadata": {},
     "output_type": "execute_result"
    }
   ],
   "source": [
    "p1=ln.predict(x_test)\n",
    "p1"
   ]
  },
  {
   "cell_type": "code",
   "execution_count": 100,
   "id": "881cac54",
   "metadata": {},
   "outputs": [
    {
     "data": {
      "text/plain": [
       "145"
      ]
     },
     "execution_count": 100,
     "metadata": {},
     "output_type": "execute_result"
    }
   ],
   "source": [
    "len(p1)"
   ]
  },
  {
   "cell_type": "code",
   "execution_count": 101,
   "id": "c02a029a",
   "metadata": {},
   "outputs": [
    {
     "data": {
      "text/plain": [
       "-11.018922745502772"
      ]
     },
     "execution_count": 101,
     "metadata": {},
     "output_type": "execute_result"
    }
   ],
   "source": [
    "ln.intercept_"
   ]
  },
  {
   "cell_type": "code",
   "execution_count": 102,
   "id": "cb8884c9",
   "metadata": {},
   "outputs": [
    {
     "data": {
      "text/plain": [
       "array([ 0.18687287,  0.25370122, -0.60703588,  0.37646409, -0.1482951 ])"
      ]
     },
     "execution_count": 102,
     "metadata": {},
     "output_type": "execute_result"
    }
   ],
   "source": [
    "ln.coef_"
   ]
  },
  {
   "cell_type": "markdown",
   "id": "dec4017e",
   "metadata": {},
   "source": [
    "# by calculation"
   ]
  },
  {
   "cell_type": "code",
   "execution_count": 103,
   "id": "d704a271",
   "metadata": {},
   "outputs": [],
   "source": [
    "#R2=SSE/SST\n",
    "#SST=SSE+SSR"
   ]
  },
  {
   "cell_type": "code",
   "execution_count": 104,
   "id": "be4f3e19",
   "metadata": {},
   "outputs": [
    {
     "data": {
      "text/plain": [
       "array([ 3.27868961,  6.66451163,  5.95615737,  7.83417527, 11.28018165,\n",
       "        4.72750489, 10.12676823, 11.03064848,  9.95557894,  8.62993105,\n",
       "        5.20001277,  5.26396066, 11.9396427 ,  9.20935611, 11.53660122,\n",
       "       11.04776282,  9.3535021 ,  7.09308535,  4.15055576, 11.40975061,\n",
       "        8.49379843,  5.29221124,  3.88348479,  7.88515792,  4.53791367,\n",
       "        8.56702833,  9.71428261,  8.93437251, 11.2829    ,  6.73294459,\n",
       "        8.17351128,  7.20672831, 11.34972835,  3.04627078,  8.7914338 ,\n",
       "       12.01863353,  6.24018776,  3.40825857, 11.7021917 ,  6.22826051,\n",
       "        7.90100361, 10.04657013,  1.46565302, 10.03728811,  6.60736982,\n",
       "       10.48611079,  5.07316216,  9.13509279,  6.74350245,  6.26307476,\n",
       "       12.24696462,  7.49260573, 10.19879086, 10.98254628, 12.65000611,\n",
       "        4.55647771,  9.25922504,  9.11468171,  8.06915033, 11.50194908,\n",
       "        3.8995729 ,  6.95574544,  9.58903663, 12.37109688,  7.81832958,\n",
       "        6.80352471, 10.73403934,  8.11308449,  5.91285211,  3.95399635,\n",
       "       12.95444757,  6.39488442,  3.31086582,  7.17974639, 10.21735489,\n",
       "       10.03456976,  6.79424269,  7.92661615, 11.71539935,  4.2708427 ,\n",
       "        8.07162627,  6.93037532, 10.81695579, 11.6075173 , 10.58983198,\n",
       "        8.09059483,  7.11390094, 10.89699178,  8.39624357,  5.17711858,\n",
       "        6.30268595,  5.52326068,  3.87293412, 11.3630981 , 12.9158698 ,\n",
       "       10.93452438,  4.85163715,  8.04130428,  5.64203655,  3.32942985,\n",
       "        8.06954768,  9.22272587,  6.25611375,  7.72093683,  4.72069881,\n",
       "        8.97854909, 12.3177186 ,  5.64058685,  7.2706762 ,  4.8382674 ,\n",
       "        6.42706062, 11.07993903,  6.49908325, 10.64345268, 13.09346066,\n",
       "        6.23362409,  8.1132466 ,  7.42577739,  9.04513502,  8.24937923,\n",
       "        3.35232404,  9.7705531 ,  5.11854601,  9.83841487,  3.36825003,\n",
       "        6.72614569, 12.97589207,  8.36966617,  4.38569294,  9.03857135,\n",
       "        8.97975636,  7.22529235,  8.42449415,  5.31758136,  8.95029851,\n",
       "        7.22921797,  6.28412191, 10.84888959,  2.72326528,  5.2505909 ,\n",
       "        4.2708427 ,  9.50860329,  8.23745917,  9.452904  , 10.73548904,\n",
       "       10.3922274 , 12.02952735, 12.27626037,  8.86963362,  5.26003503,\n",
       "        6.39881004,  7.90619789,  7.92822077,  9.06451985,  8.22400911,\n",
       "        5.90749571,  9.10044065,  7.31092714,  8.40184237, 11.69002923,\n",
       "        5.49789056,  8.25803235,  5.56447649,  8.55653904,  3.25331949,\n",
       "        4.60721795,  8.64106011,  9.93949083, 12.40311098,  9.74869234,\n",
       "        8.78487013,  5.6913271 ,  9.22256376,  8.88635062,  9.82752105,\n",
       "       11.54997097,  2.08381796,  7.68876062,  6.32045898, 10.85841402,\n",
       "        9.08659324, 10.8740976 ,  4.1600802 ,  9.61527806,  9.64064818,\n",
       "        7.74862077,  6.48692077,  3.35479998,  7.69788053, 11.49514299,\n",
       "        8.62705059,  9.58062592,  2.90725769,  3.68461156, 12.34163903,\n",
       "        5.91677773,  7.52973381,  8.85169848,  4.12790399, 10.98238417,\n",
       "        6.00505058,  9.19079208, 10.40295911,  7.026257  ,  2.69662651,\n",
       "        5.47412506,  8.77558811,  3.33895429,  8.47771032,  8.06931245,\n",
       "       10.15733263,  7.17479452,  7.20264057,  2.48045789, 13.47401248,\n",
       "        9.33781853,  6.36295063,  5.21201314,  9.1802414 ,  7.73846744,\n",
       "       10.07338994,  7.94493777, 12.3162689 , 11.75749733, 10.95989451,\n",
       "        7.28803296,  2.98624852,  4.34014698,  9.57381984,  8.72484787,\n",
       "        4.78072107,  7.68859851,  7.07971559,  7.07971559, 10.10387404,\n",
       "        9.0197649 ,  7.79416673,  8.14789874,  6.47099478,  9.28299055,\n",
       "       10.65937867,  6.78471826,  2.45740159,  5.98792905,  9.48323317,\n",
       "        3.1357509 ,  6.35095026,  9.44449329,  7.69268625,  7.01304936,\n",
       "        5.7074152 ,  9.72108152, 11.23896584,  9.22665149,  5.08516253,\n",
       "        6.10653106,  4.55647771,  7.92909208, 10.46586183,  7.01057342,\n",
       "        6.75278447,  5.93165856,  9.42321091,  8.83289203,  9.27370853,\n",
       "        9.96958845,  7.1494244 , 12.06256769,  7.83936955,  8.13861672,\n",
       "        6.82802352,  4.44162747,  4.16255613,  5.98920489, 10.69691127,\n",
       "        8.34429605,  3.10381711,  6.60056374,  5.58328294,  6.43225491,\n",
       "        9.14005183,  7.5916031 ,  6.592489  ,  7.62377931,  6.93965734,\n",
       "        5.71134083, 10.37102532,  7.09580369,  5.10533837,  8.15863045,\n",
       "        5.2720354 ,  8.87827588,  6.37223264,  6.34559387,  7.79952313,\n",
       "        7.33382133,  8.69019573,  8.98903838,  4.23059175,  4.36032282,\n",
       "        7.6939549 ,  9.26009636,  6.03722678,  6.91837495, 10.07850392,\n",
       "        9.6660183 ,  5.35903958,  4.41106307,  3.11038078,  9.14397746,\n",
       "        7.10260978,  8.38287381, 10.60183234, 10.01848166,  7.54582191,\n",
       "        7.48171191,  9.32940064, 10.65025877,  8.77286977,  8.77286977,\n",
       "        9.90075096,  6.68740581, 11.22287774,  9.88482496,  2.32143107,\n",
       "        9.1443748 ,  4.39497496,  6.98767923, 10.00424059,  8.68747738,\n",
       "        7.39096313,  6.1036506 , 10.84786335,  7.99071896,  3.0035439 ,\n",
       "        8.18671892, 11.44585244,  7.68219695,  6.69251979,  7.34557928,\n",
       "        6.06012097,  6.48892992, 10.84625154,  7.54854026,  5.01585825,\n",
       "       12.01575307,  7.8597878 ,  9.69979913, 10.87201901,  3.66316706,\n",
       "        9.07322349,  6.09724904,  7.00360523,  7.13989996, 11.55268932,\n",
       "       10.41680651,  8.80095824,  9.29883623, 10.71275696,  8.35750369,\n",
       "       10.89059023,  3.11062319, 11.43696777, 11.45777251,  7.81808716,\n",
       "       10.3297292 ,  8.08378874,  7.20016464,  8.5859969 ,  5.76743746,\n",
       "        6.9996796 ,  4.08125148, 10.90643591,  3.95152042,  3.36160606,\n",
       "       12.39237927,  3.08525307,  9.85041524,  7.17479452,  7.13454357,\n",
       "       10.21487896, 10.82104353,  6.69956829,  5.64739294,  8.76070729,\n",
       "        7.8436997 , 10.52300363, 10.68923387,  4.53503321,  8.44305818,\n",
       "        8.94637288, 11.31755214,  2.58441431, 10.72475733,  7.47899356,\n",
       "        4.87020119,  6.95302709,  7.21872868, 10.89554209, 10.57374387,\n",
       "        5.92237654,  9.7919976 ,  4.9490299 ,  7.73021885,  6.45243075,\n",
       "        8.55653904,  7.05970186,  7.52317014,  8.59119118,  7.08012012,\n",
       "        7.08259605,  9.07467318, 10.71547531,  8.37622984,  3.97815919,\n",
       "        8.47771032,  6.40337543,  7.16031104,  9.00639514,  9.49499112,\n",
       "        8.25122627,  6.62321551, 11.68201586,  3.52047076,  9.93556521,\n",
       "        6.71541398, 12.32700061,  9.77862784, 10.75012745,  9.15613994,\n",
       "        2.46956407,  7.18280788, 10.05746395,  8.04394232,  7.14670605,\n",
       "       10.12924416,  5.41225576,  9.27618446,  4.77143905,  5.38032197,\n",
       "        9.1214878 ,  5.69029367,  7.01985544,  7.35670834,  8.20008868,\n",
       "       12.1894183 , 11.18141952,  5.07588051,  9.83408472,  7.86099508,\n",
       "        9.25202162,  3.12399295, 10.32068242,  9.75549842,  5.88500605,\n",
       "        7.97983233, 10.22328967,  8.47916002,  5.41122234,  8.63673714,\n",
       "       10.85160793, 12.40846737,  5.55519447,  2.70862687,  9.76502286,\n",
       "       10.75012745, 11.56502565,  9.01728896,  5.05443601, 10.6832991 ,\n",
       "        5.96111642,  3.48436893,  5.62202282,  6.64362658,  2.48438351,\n",
       "        7.67003447,  9.80895702, 11.55925299,  6.91821284,  8.04913661,\n",
       "        5.37744151,  9.8943494 ,  5.34295148,  7.49780001,  8.21992137,\n",
       "        9.78111096,  7.37503714,  6.3856024 , 11.15085511,  3.86492076,\n",
       "        5.05051039,  8.00912807,  3.78609204, 11.50851275,  3.979771  ,\n",
       "       10.58590635,  7.66586643,  9.98654787,  6.59929508,  7.81832958,\n",
       "        9.62640711,  8.19600094,  7.90372196, 11.66345183,  9.6493013 ,\n",
       "        6.22657559, 11.61663721,  6.2748399 ,  6.45762503,  9.89843713,\n",
       "        6.04922715,  7.63802038,  4.98096369,  5.61545915,  7.94246184,\n",
       "        4.39497496,  8.04913661, 12.14260368,  6.23362409,  4.27885606,\n",
       "        8.42697008,  5.66595698, 10.0051119 ,  8.35110213, 10.9918283 ,\n",
       "        6.51764729,  5.29492959, 10.23649731,  9.35205241, 11.09515582,\n",
       "        9.09484184,  7.74382383,  5.06226834,  7.97711398,  9.16662923,\n",
       "        8.28403137,  5.69813318,  7.49508167,  7.46971154,  5.67795734,\n",
       "        2.89405005,  6.08363687,  9.36838293,  5.68723936, 11.62384064,\n",
       "        9.12124538, 10.31595492,  9.53789904,  6.50485591,  3.74215788,\n",
       "        3.03179448,  2.29853689,  9.3910347 ,  8.87026252,  7.18816427,\n",
       "        6.22393754, 10.35757526,  4.28813808,  9.71860558,  8.04378021,\n",
       "        6.98111556,  9.36566458, 11.29626976,  7.86226374,  6.29364635,\n",
       "        8.18935697,  7.12405428,  5.92894021, 10.07194025,  6.72717193,\n",
       "        4.95744061,  5.77856652,  8.1988814 ,  7.89172159,  6.12261917,\n",
       "        6.34991684,  7.47490583, 10.86769604,  9.7782305 ,  9.39784079])"
      ]
     },
     "execution_count": 104,
     "metadata": {},
     "output_type": "execute_result"
    }
   ],
   "source": [
    "p_train=ln.predict(x_train)\n",
    "p_train"
   ]
  },
  {
   "cell_type": "code",
   "execution_count": 105,
   "id": "20d423ea",
   "metadata": {},
   "outputs": [
    {
     "data": {
      "text/plain": [
       "7.837124137931033"
      ]
     },
     "execution_count": 105,
     "metadata": {},
     "output_type": "execute_result"
    }
   ],
   "source": [
    "mean_y=y_train.mean()\n",
    "mean_y"
   ]
  },
  {
   "cell_type": "code",
   "execution_count": 106,
   "id": "c5be90e8",
   "metadata": {},
   "outputs": [
    {
     "data": {
      "text/plain": [
       "544.8441751893531"
      ]
     },
     "execution_count": 106,
     "metadata": {},
     "output_type": "execute_result"
    }
   ],
   "source": [
    "SSE=np.sum(np.square(p_train-y_train))\n",
    "SSE"
   ]
  },
  {
   "cell_type": "code",
   "execution_count": 107,
   "id": "63b9def5",
   "metadata": {},
   "outputs": [
    {
     "data": {
      "text/plain": [
       "3570.654941872723"
      ]
     },
     "execution_count": 107,
     "metadata": {},
     "output_type": "execute_result"
    }
   ],
   "source": [
    "SSR=np.sum(np.square(p_train-mean_y))\n",
    "SSR"
   ]
  },
  {
   "cell_type": "code",
   "execution_count": 108,
   "id": "a82a47dc",
   "metadata": {},
   "outputs": [
    {
     "data": {
      "text/plain": [
       "0.8676116408504299"
      ]
     },
     "execution_count": 108,
     "metadata": {},
     "output_type": "execute_result"
    }
   ],
   "source": [
    "R2=SSR/(SSE+SSR)\n",
    "R2"
   ]
  },
  {
   "cell_type": "code",
   "execution_count": 109,
   "id": "44670054",
   "metadata": {},
   "outputs": [
    {
     "data": {
      "text/plain": [
       "0.8664584321470363"
      ]
     },
     "execution_count": 109,
     "metadata": {},
     "output_type": "execute_result"
    }
   ],
   "source": [
    "adj_R2=1-((1-R2)*(580-1))/(580-5-1)\n",
    "adj_R2"
   ]
  },
  {
   "cell_type": "code",
   "execution_count": 110,
   "id": "b759038d",
   "metadata": {},
   "outputs": [],
   "source": [
    "from sklearn import metrics"
   ]
  },
  {
   "cell_type": "code",
   "execution_count": 111,
   "id": "7908acca",
   "metadata": {},
   "outputs": [
    {
     "data": {
      "text/plain": [
       "0.9511491414785208"
      ]
     },
     "execution_count": 111,
     "metadata": {},
     "output_type": "execute_result"
    }
   ],
   "source": [
    "MAE=metrics.mean_absolute_error(y_test,p1)\n",
    "MAE"
   ]
  },
  {
   "cell_type": "code",
   "execution_count": 112,
   "id": "1afdd19f",
   "metadata": {},
   "outputs": [
    {
     "data": {
      "text/plain": [
       "1.4291053635036317"
      ]
     },
     "execution_count": 112,
     "metadata": {},
     "output_type": "execute_result"
    }
   ],
   "source": [
    "MSE=metrics.mean_squared_error(y_test,p1)\n",
    "MSE"
   ]
  },
  {
   "cell_type": "code",
   "execution_count": 113,
   "id": "50287582",
   "metadata": {},
   "outputs": [
    {
     "data": {
      "text/plain": [
       "1.1954519494750224"
      ]
     },
     "execution_count": 113,
     "metadata": {},
     "output_type": "execute_result"
    }
   ],
   "source": [
    "RMSE=np.sqrt(MSE)\n",
    "RMSE"
   ]
  },
  {
   "cell_type": "code",
   "execution_count": 114,
   "id": "8f822b62",
   "metadata": {},
   "outputs": [
    {
     "data": {
      "text/plain": [
       "0.8676116408504295"
      ]
     },
     "execution_count": 114,
     "metadata": {},
     "output_type": "execute_result"
    }
   ],
   "source": [
    "#Calculating of r2 by syntax\n",
    "r_sq=ln.score(x_train,y_train)\n",
    "r_sq"
   ]
  },
  {
   "cell_type": "code",
   "execution_count": 117,
   "id": "98045224",
   "metadata": {},
   "outputs": [
    {
     "data": {
      "text/plain": [
       "642    0.402331\n",
       "269    3.092955\n",
       "267    1.024420\n",
       "351    0.883414\n",
       "613    0.227631\n",
       "         ...   \n",
       "473    0.972657\n",
       "240    0.087568\n",
       "6      1.813516\n",
       "448    1.188736\n",
       "23     0.208469\n",
       "Name: Lungcap, Length: 145, dtype: float64"
      ]
     },
     "execution_count": 117,
     "metadata": {},
     "output_type": "execute_result"
    }
   ],
   "source": [
    "#MAPE \n",
    "error=y_test-p1\n",
    "#error\n",
    "abs_error=np.abs(error)\n",
    "abs_error"
   ]
  },
  {
   "cell_type": "code",
   "execution_count": 118,
   "id": "573d2033",
   "metadata": {},
   "outputs": [
    {
     "data": {
      "text/plain": [
       "13.859508171724007"
      ]
     },
     "execution_count": 118,
     "metadata": {},
     "output_type": "execute_result"
    }
   ],
   "source": [
    "MAPE=np.mean(abs_error/y_test)*100\n",
    "MAPE"
   ]
  },
  {
   "cell_type": "code",
   "execution_count": 119,
   "id": "843d149d",
   "metadata": {},
   "outputs": [
    {
     "data": {
      "text/plain": [
       "86.140491828276"
      ]
     },
     "execution_count": 119,
     "metadata": {},
     "output_type": "execute_result"
    }
   ],
   "source": [
    "Accuracy=100-MAPE\n",
    "Accuracy"
   ]
  },
  {
   "cell_type": "code",
   "execution_count": null,
   "id": "18fe868e",
   "metadata": {},
   "outputs": [],
   "source": [
    "#RMSlE is for  under predicted i.e, predicted value is less than the actual value\n",
    "#not having pre-defined function\n",
    "#actual=100 , predicted =110 ,RMSE=sqrt(110-100)=3.162----km\n",
    "#actual=1000, predicted=1100, RMSE=sqrt(1100-1000)=10-----m\n",
    "#RMSLE is depends on unit also.\n",
    "#calculation:\n",
    "#A: (Actual:100,pred:90)------underpred\n",
    "#B: (Actual:100,pred:110)-----overpred\n",
    "#error(A)=log(90+1)-log(100+1)\n",
    "#error(A)2=\n",
    "#sqrt(error-A)=\n",
    "#error(B)=log(110+1)-log(100+1)\n",
    "#error(B)2=\n",
    "#sqrt(error-B)=\n",
    "\n",
    "#for underpredicted records RMSLE is large while for overpredicted it is less"
   ]
  },
  {
   "cell_type": "code",
   "execution_count": 120,
   "id": "49edb05a",
   "metadata": {},
   "outputs": [],
   "source": [
    "def RMSLE (pred,act):\n",
    "    total=0.0\n",
    "    for i in range(len(act)):\n",
    "        pred_val=np.log(pred[i]+1)\n",
    "        act_val=np.log(act[i]+1)\n",
    "        total=total+(act_val-pred_val)**2\n",
    "        global tot_log_error\n",
    "        tot_log_error=np.sqrt(total/(len(pred)))"
   ]
  },
  {
   "cell_type": "code",
   "execution_count": 121,
   "id": "9b0f6b87",
   "metadata": {},
   "outputs": [],
   "source": [
    "y1_test=np.array(y_test)"
   ]
  },
  {
   "cell_type": "code",
   "execution_count": 122,
   "id": "07c0d317",
   "metadata": {},
   "outputs": [
    {
     "data": {
      "text/plain": [
       "0.15348332827153857"
      ]
     },
     "execution_count": 122,
     "metadata": {},
     "output_type": "execute_result"
    }
   ],
   "source": [
    "RMSLE(p1,y1_test)\n",
    "tot_log_error"
   ]
  },
  {
   "cell_type": "code",
   "execution_count": 123,
   "id": "57acae1b",
   "metadata": {},
   "outputs": [],
   "source": [
    "#When MSE is high is called penalization."
   ]
  },
  {
   "cell_type": "code",
   "execution_count": 124,
   "id": "039f2c0f",
   "metadata": {},
   "outputs": [],
   "source": [
    "#generalization/regularisation are called as a \n",
    "#lasso(L1)\n",
    "#Ridge(L2)\n",
    "#only for numeric column\n",
    "#1. overfitted\n",
    "#2. multicolinearity\n",
    "#3. penalized\n",
    "\n",
    "\n",
    "#LE=MSE,\n",
    "#L1=MSE+lambda|beta|\n",
    "#L2=MSE+lambda summation of beta\n",
    "\n",
    "#if there is difference between R2 and adj R2 there will be error.\n",
    "#R2 is high there will be non significant features\n",
    "#lasso also used for features selection.\n",
    "#if there is non significant features MSE is also high.\n"
   ]
  },
  {
   "cell_type": "code",
   "execution_count": 125,
   "id": "0659a2ee",
   "metadata": {},
   "outputs": [],
   "source": [
    "#generalization and regulization techniques:\n",
    "#1. Lasso(L1): \n",
    "#2. Ridge(L2)\n",
    "\n",
    "#1. Overfitting\n",
    "#2. multicolinearity\n",
    "#3. model get penalized\n",
    "\n",
    "#these are called cost function i.e, error function\n",
    "#LE=MSE\n",
    "#L1=MSE+lambda|beta|\n",
    "#L2=MSE+lambda summation of beta\n",
    "\n",
    "#Lasso also used for the features selection by making non significant features coefficient zero.\n"
   ]
  },
  {
   "cell_type": "code",
   "execution_count": 126,
   "id": "e053318f",
   "metadata": {},
   "outputs": [],
   "source": [
    "import matplotlib.pyplot as plt\n",
    "import seaborn as sns"
   ]
  },
  {
   "cell_type": "code",
   "execution_count": 127,
   "id": "3f3fa5bc",
   "metadata": {},
   "outputs": [
    {
     "data": {
      "text/plain": [
       "<matplotlib.collections.PathCollection at 0x1c8cbdb93d0>"
      ]
     },
     "execution_count": 127,
     "metadata": {},
     "output_type": "execute_result"
    },
    {
     "data": {
      "image/png": "[encoded data removed]",
      "text/plain": [
       "<Figure size 640x480 with 1 Axes>"
      ]
     },
     "metadata": {},
     "output_type": "display_data"
    }
   ],
   "source": [
    "plt.scatter(y_test,p1)"
   ]
  },
  {
   "cell_type": "code",
   "execution_count": null,
   "id": "af606647",
   "metadata": {},
   "outputs": [],
   "source": [
    "df1="
   ]
  },
  {
   "cell_type": "code",
   "execution_count": null,
   "id": "6c5c137d",
   "metadata": {},
   "outputs": [],
   "source": [
    "sns.lmplot(data=lc,x=\"Actual\",y=\"Predicted\")"
   ]
  },
  {
   "cell_type": "markdown",
   "id": "c07665ca",
   "metadata": {},
   "source": [
    "# LASSO(L1)"
   ]
  },
  {
   "cell_type": "code",
   "execution_count": 128,
   "id": "582cac46",
   "metadata": {},
   "outputs": [],
   "source": [
    "from sklearn.linear_model import Lasso\n",
    "lasso=Lasso()"
   ]
  },
  {
   "cell_type": "code",
   "execution_count": 129,
   "id": "9edfd9b8",
   "metadata": {},
   "outputs": [
    {
     "data": {
      "text/plain": [
       "Lasso()"
      ]
     },
     "execution_count": 129,
     "metadata": {},
     "output_type": "execute_result"
    }
   ],
   "source": [
    "lasso.fit(x_train,y_train)"
   ]
  },
  {
   "cell_type": "code",
   "execution_count": 130,
   "id": "2be075fd",
   "metadata": {},
   "outputs": [],
   "source": [
    "lp=lasso.predict(x_test)"
   ]
  },
  {
   "cell_type": "code",
   "execution_count": 131,
   "id": "a31724c2",
   "metadata": {},
   "outputs": [
    {
     "data": {
      "text/plain": [
       "array([ 8.2027545 ,  5.98810902,  6.57168019, 10.34229544,  3.90838768,\n",
       "        5.92828941,  6.90134808,  4.92532094,  9.10004855,  4.86616141,\n",
       "       11.09070056,  7.58861345,  6.09312336,  9.84911375,  4.68538245,\n",
       "        8.44137284,  5.85318487,  7.96281601,  4.95589082,  8.74113093,\n",
       "       10.83547713,  7.54407879,  8.08377537,  8.08311529,  7.81392708,\n",
       "        5.98810902,  9.22100791,  9.0116393 ,  7.79864214, 11.14986009,\n",
       "        7.56068387,  6.98975734,  9.80325893,  4.74652221, 10.88133195,\n",
       "        8.72716614,  3.77280346,  8.62149172,  4.6567928 ,  7.58927353,\n",
       "        5.73354567,  8.96578448,  7.67834286,  8.48788773,  6.94654282,\n",
       "        6.25663716,  6.81161868,  8.03858063,  8.8155754 ,  6.00339396,\n",
       "        4.34306992,  8.21737936,  6.45270106,  5.34603839,  9.32536218,\n",
       "       10.61148365, 12.85537886,  4.72991712,  1.55947813,  3.23574718,\n",
       "       10.50646931, 11.3891385 , 10.49250452,  5.10477975,  6.58696513,\n",
       "        8.17152455, 11.04484574,  2.36770285,  4.7166124 ,  9.92289814,\n",
       "        9.14590337, 10.37286531,  9.54935565,  7.58795338, 10.05782228,\n",
       "        9.2648825 ,  7.99272581,  8.08311529,  9.21902769,  4.7903968 ,\n",
       "        6.19747763,  9.18977796,  9.32536218,  3.90838768, 10.74706787,\n",
       "        7.15591144,  5.22507904,  6.78236895,  8.02263561,  7.57464866,\n",
       "       10.68592812,  7.90365648,  4.6567928 , 10.32767057, 10.82085227,\n",
       "        5.13534963,  8.69659627,  8.96380426,  7.69494794, 11.40508351,\n",
       "        3.71430401,  7.09543176, 11.31535411,  6.94588275,  8.2625741 ,\n",
       "        6.87209836,  5.12006469,  4.92664109,  7.63380819,  5.61522661,\n",
       "       10.83613721,  2.32316819,  9.44500138,  8.05320549, 11.31469403,\n",
       "        9.08674384,  9.90893335,  8.02329569,  9.20572297,  9.89430849,\n",
       "        5.34603839,  9.17581317,  2.27797345,  7.27555064, 10.86538693,\n",
       "        9.96677273, 10.22331631, 10.22331631,  9.40046672,  7.97810095,\n",
       "        3.53352505,  4.88144635, 10.40277512,  6.96116769,  9.56398052,\n",
       "        8.09774016,  7.93356628, 10.0737673 ,  9.59389032,  7.96413616,\n",
       "       10.53637911,  9.62314005,  7.16921615,  5.61456653,  8.71056106])"
      ]
     },
     "execution_count": 131,
     "metadata": {},
     "output_type": "execute_result"
    }
   ],
   "source": [
    "lp"
   ]
  },
  {
   "cell_type": "code",
   "execution_count": 132,
   "id": "817f47f0",
   "metadata": {},
   "outputs": [
    {
     "data": {
      "text/plain": [
       "array([ 0.04519474,  0.29909802, -0.        ,  0.        , -0.        ])"
      ]
     },
     "execution_count": 132,
     "metadata": {},
     "output_type": "execute_result"
    }
   ],
   "source": [
    "lasso.coef_"
   ]
  },
  {
   "cell_type": "code",
   "execution_count": 133,
   "id": "83a2ca1a",
   "metadata": {},
   "outputs": [
    {
     "data": {
      "text/plain": [
       "0.8461430771880485"
      ]
     },
     "execution_count": 133,
     "metadata": {},
     "output_type": "execute_result"
    }
   ],
   "source": [
    "lR2=lasso.score(x_train,y_train)\n",
    "lR2"
   ]
  },
  {
   "cell_type": "code",
   "execution_count": 134,
   "id": "3bec4adc",
   "metadata": {},
   "outputs": [
    {
     "data": {
      "text/plain": [
       "0.8448028600903834"
      ]
     },
     "execution_count": 134,
     "metadata": {},
     "output_type": "execute_result"
    }
   ],
   "source": [
    "L_AdR2=1-(((1-lR2)*(580-1))/(580-5-1))\n",
    "L_AdR2"
   ]
  },
  {
   "cell_type": "code",
   "execution_count": 135,
   "id": "af60dec1",
   "metadata": {},
   "outputs": [
    {
     "data": {
      "text/html": [
       "<div>\n",
       "<style scoped>\n",
       "    .dataframe tbody tr th:only-of-type {\n",
       "        vertical-align: middle;\n",
       "    }\n",
       "\n",
       "    .dataframe tbody tr th {\n",
       "        vertical-align: top;\n",
       "    }\n",
       "\n",
       "    .dataframe thead th {\n",
       "        text-align: right;\n",
       "    }\n",
       "</style>\n",
       "<table border=\"1\" class=\"dataframe\">\n",
       "  <thead>\n",
       "    <tr style=\"text-align: right;\">\n",
       "      <th></th>\n",
       "      <th>Importance</th>\n",
       "      <th>columns</th>\n",
       "    </tr>\n",
       "  </thead>\n",
       "  <tbody>\n",
       "    <tr>\n",
       "      <th>0</th>\n",
       "      <td>0.045195</td>\n",
       "      <td>Age( years)</td>\n",
       "    </tr>\n",
       "    <tr>\n",
       "      <th>1</th>\n",
       "      <td>0.299098</td>\n",
       "      <td>Height(inches)</td>\n",
       "    </tr>\n",
       "    <tr>\n",
       "      <th>2</th>\n",
       "      <td>-0.000000</td>\n",
       "      <td>Smoke</td>\n",
       "    </tr>\n",
       "    <tr>\n",
       "      <th>3</th>\n",
       "      <td>0.000000</td>\n",
       "      <td>Gender</td>\n",
       "    </tr>\n",
       "    <tr>\n",
       "      <th>4</th>\n",
       "      <td>-0.000000</td>\n",
       "      <td>Caesarean</td>\n",
       "    </tr>\n",
       "  </tbody>\n",
       "</table>\n",
       "</div>"
      ],
      "text/plain": [
       "   Importance         columns\n",
       "0    0.045195     Age( years)\n",
       "1    0.299098  Height(inches)\n",
       "2   -0.000000           Smoke\n",
       "3    0.000000          Gender\n",
       "4   -0.000000       Caesarean"
      ]
     },
     "execution_count": 135,
     "metadata": {},
     "output_type": "execute_result"
    }
   ],
   "source": [
    "final_df=pd.DataFrame({\"Importance\":list(lasso.coef_),\"columns\":list(x)})\n",
    "final_df"
   ]
  },
  {
   "cell_type": "code",
   "execution_count": 136,
   "id": "cc713b13",
   "metadata": {},
   "outputs": [],
   "source": [
    "#df =lungcap+age+height"
   ]
  },
  {
   "cell_type": "code",
   "execution_count": 143,
   "id": "a0ed3838",
   "metadata": {},
   "outputs": [],
   "source": [
    "new=data_lung.iloc[:,:3]"
   ]
  },
  {
   "cell_type": "code",
   "execution_count": 144,
   "id": "320a93ad",
   "metadata": {},
   "outputs": [
    {
     "data": {
      "text/html": [
       "<div>\n",
       "<style scoped>\n",
       "    .dataframe tbody tr th:only-of-type {\n",
       "        vertical-align: middle;\n",
       "    }\n",
       "\n",
       "    .dataframe tbody tr th {\n",
       "        vertical-align: top;\n",
       "    }\n",
       "\n",
       "    .dataframe thead th {\n",
       "        text-align: right;\n",
       "    }\n",
       "</style>\n",
       "<table border=\"1\" class=\"dataframe\">\n",
       "  <thead>\n",
       "    <tr style=\"text-align: right;\">\n",
       "      <th></th>\n",
       "      <th>Lungcap</th>\n",
       "      <th>Age( years)</th>\n",
       "      <th>Height(inches)</th>\n",
       "    </tr>\n",
       "  </thead>\n",
       "  <tbody>\n",
       "    <tr>\n",
       "      <th>0</th>\n",
       "      <td>6.475</td>\n",
       "      <td>6</td>\n",
       "      <td>62.1</td>\n",
       "    </tr>\n",
       "    <tr>\n",
       "      <th>1</th>\n",
       "      <td>10.125</td>\n",
       "      <td>18</td>\n",
       "      <td>74.7</td>\n",
       "    </tr>\n",
       "    <tr>\n",
       "      <th>2</th>\n",
       "      <td>9.550</td>\n",
       "      <td>16</td>\n",
       "      <td>69.7</td>\n",
       "    </tr>\n",
       "    <tr>\n",
       "      <th>3</th>\n",
       "      <td>11.125</td>\n",
       "      <td>14</td>\n",
       "      <td>71.0</td>\n",
       "    </tr>\n",
       "    <tr>\n",
       "      <th>4</th>\n",
       "      <td>4.800</td>\n",
       "      <td>5</td>\n",
       "      <td>56.9</td>\n",
       "    </tr>\n",
       "    <tr>\n",
       "      <th>...</th>\n",
       "      <td>...</td>\n",
       "      <td>...</td>\n",
       "      <td>...</td>\n",
       "    </tr>\n",
       "    <tr>\n",
       "      <th>720</th>\n",
       "      <td>5.725</td>\n",
       "      <td>9</td>\n",
       "      <td>56.0</td>\n",
       "    </tr>\n",
       "    <tr>\n",
       "      <th>721</th>\n",
       "      <td>9.050</td>\n",
       "      <td>18</td>\n",
       "      <td>72.0</td>\n",
       "    </tr>\n",
       "    <tr>\n",
       "      <th>722</th>\n",
       "      <td>3.850</td>\n",
       "      <td>11</td>\n",
       "      <td>60.5</td>\n",
       "    </tr>\n",
       "    <tr>\n",
       "      <th>723</th>\n",
       "      <td>9.825</td>\n",
       "      <td>15</td>\n",
       "      <td>64.9</td>\n",
       "    </tr>\n",
       "    <tr>\n",
       "      <th>724</th>\n",
       "      <td>7.100</td>\n",
       "      <td>10</td>\n",
       "      <td>67.7</td>\n",
       "    </tr>\n",
       "  </tbody>\n",
       "</table>\n",
       "<p>725 rows × 3 columns</p>\n",
       "</div>"
      ],
      "text/plain": [
       "     Lungcap  Age( years)  Height(inches)\n",
       "0      6.475            6            62.1\n",
       "1     10.125           18            74.7\n",
       "2      9.550           16            69.7\n",
       "3     11.125           14            71.0\n",
       "4      4.800            5            56.9\n",
       "..       ...          ...             ...\n",
       "720    5.725            9            56.0\n",
       "721    9.050           18            72.0\n",
       "722    3.850           11            60.5\n",
       "723    9.825           15            64.9\n",
       "724    7.100           10            67.7\n",
       "\n",
       "[725 rows x 3 columns]"
      ]
     },
     "execution_count": 144,
     "metadata": {},
     "output_type": "execute_result"
    }
   ],
   "source": [
    "new"
   ]
  },
  {
   "cell_type": "code",
   "execution_count": 145,
   "id": "7b22579e",
   "metadata": {},
   "outputs": [],
   "source": [
    "new_x=new.iloc[:,1:]\n",
    "new_y=new.iloc[:,0]"
   ]
  },
  {
   "cell_type": "code",
   "execution_count": 147,
   "id": "48efd3df",
   "metadata": {},
   "outputs": [
    {
     "data": {
      "text/plain": [
       "0     6.475\n",
       "1    10.125\n",
       "2     9.550\n",
       "3    11.125\n",
       "4     4.800\n",
       "Name: Lungcap, dtype: float64"
      ]
     },
     "execution_count": 147,
     "metadata": {},
     "output_type": "execute_result"
    }
   ],
   "source": [
    "#new_y.head()"
   ]
  },
  {
   "cell_type": "code",
   "execution_count": 148,
   "id": "4556baea",
   "metadata": {},
   "outputs": [],
   "source": [
    "x_tr,x_te,y_tr,y_te=train_test_split(new_x,new_y,test_size=0.2,random_state=100)"
   ]
  },
  {
   "cell_type": "code",
   "execution_count": 149,
   "id": "1444dbcd",
   "metadata": {},
   "outputs": [
    {
     "data": {
      "text/plain": [
       "((580, 2), (145, 2), (580,), (145,))"
      ]
     },
     "execution_count": 149,
     "metadata": {},
     "output_type": "execute_result"
    }
   ],
   "source": [
    "x_tr.shape,x_te.shape,y_tr.shape,y_te.shape"
   ]
  },
  {
   "cell_type": "code",
   "execution_count": 150,
   "id": "d2b62e39",
   "metadata": {},
   "outputs": [
    {
     "data": {
      "text/plain": [
       "LinearRegression()"
      ]
     },
     "execution_count": 150,
     "metadata": {},
     "output_type": "execute_result"
    }
   ],
   "source": [
    "ln.fit(x_tr,y_tr)"
   ]
  },
  {
   "cell_type": "code",
   "execution_count": 151,
   "id": "0d8679de",
   "metadata": {},
   "outputs": [],
   "source": [
    "new_p=ln.predict(x_te)"
   ]
  },
  {
   "cell_type": "code",
   "execution_count": 153,
   "id": "19acdde4",
   "metadata": {},
   "outputs": [
    {
     "data": {
      "text/plain": [
       "0.8507546085170627"
      ]
     },
     "execution_count": 153,
     "metadata": {},
     "output_type": "execute_result"
    }
   ],
   "source": [
    "new_r2=ln.score(x_tr,y_tr)\n",
    "new_r2"
   ]
  },
  {
   "cell_type": "code",
   "execution_count": 154,
   "id": "0881f75c",
   "metadata": {},
   "outputs": [
    {
     "data": {
      "text/plain": [
       "0.850237293468595"
      ]
     },
     "execution_count": 154,
     "metadata": {},
     "output_type": "execute_result"
    }
   ],
   "source": [
    "new_AdR2=1-(((1-new_r2)*(580-1))/(580-2-1))\n",
    "new_AdR2"
   ]
  },
  {
   "cell_type": "code",
   "execution_count": 155,
   "id": "7e3b3a4b",
   "metadata": {},
   "outputs": [],
   "source": [
    "from sklearn import metrics"
   ]
  },
  {
   "cell_type": "code",
   "execution_count": 156,
   "id": "e10d7fe8",
   "metadata": {},
   "outputs": [
    {
     "data": {
      "text/plain": [
       "1.3096636180831516"
      ]
     },
     "execution_count": 156,
     "metadata": {},
     "output_type": "execute_result"
    }
   ],
   "source": [
    "new_mse=metrics.mean_squared_error(y_te,new_p)\n",
    "new_mse"
   ]
  },
  {
   "cell_type": "code",
   "execution_count": 157,
   "id": "32bc0705",
   "metadata": {},
   "outputs": [],
   "source": [
    "#mape,scatter plot"
   ]
  },
  {
   "cell_type": "code",
   "execution_count": null,
   "id": "2f85fb89",
   "metadata": {},
   "outputs": [],
   "source": []
  }
 ],
 "metadata": {
  "kernelspec": {
   "display_name": "Python 3 (ipykernel)",
   "language": "python",
   "name": "python3"
  },
  "language_info": {
   "codemirror_mode": {
    "name": "ipython",
    "version": 3
   },
   "file_extension": ".py",
   "mimetype": "text/x-python",
   "name": "python",
   "nbconvert_exporter": "python",
   "pygments_lexer": "ipython3",
   "version": "3.9.13"
  }
 },
 "nbformat": 4,
 "nbformat_minor": 5
}
